{
 "cells": [
  {
   "cell_type": "code",
   "execution_count": 1,
   "id": "428316d5",
   "metadata": {},
   "outputs": [],
   "source": [
    "import numpy as np\n",
    "import pandas as pd\n",
    "import matplotlib.pyplot as plt\n",
    "import seaborn as sns\n",
    "from pandas_profiling import ProfileReport"
   ]
  },
  {
   "cell_type": "markdown",
   "id": "381b57a4",
   "metadata": {},
   "source": [
    "### Read dataset"
   ]
  },
  {
   "cell_type": "code",
   "execution_count": 2,
   "id": "4edddc4e",
   "metadata": {},
   "outputs": [],
   "source": [
    "train_patient = pd.read_csv('./train.csv')\n",
    "test_patient = pd.read_csv('./test.csv')\n",
    "sample_patient = pd.read_csv('./sample_submission.csv')"
   ]
  },
  {
   "cell_type": "code",
   "execution_count": 3,
   "id": "0f269404",
   "metadata": {},
   "outputs": [
    {
     "data": {
      "text/html": [
       "<div>\n",
       "<style scoped>\n",
       "    .dataframe tbody tr th:only-of-type {\n",
       "        vertical-align: middle;\n",
       "    }\n",
       "\n",
       "    .dataframe tbody tr th {\n",
       "        vertical-align: top;\n",
       "    }\n",
       "\n",
       "    .dataframe thead th {\n",
       "        text-align: right;\n",
       "    }\n",
       "</style>\n",
       "<table border=\"1\" class=\"dataframe\">\n",
       "  <thead>\n",
       "    <tr style=\"text-align: right;\">\n",
       "      <th></th>\n",
       "      <th>patient_id_</th>\n",
       "      <th>HAEMATOCRIT</th>\n",
       "      <th>HAEMOGLOBINS</th>\n",
       "      <th>ERYTHROCYTE</th>\n",
       "      <th>LEUCOCYTE</th>\n",
       "      <th>THROMBOCYTE</th>\n",
       "      <th>MCH</th>\n",
       "      <th>MCHC</th>\n",
       "      <th>MCV</th>\n",
       "      <th>AGE</th>\n",
       "      <th>SEX</th>\n",
       "      <th>SOURCE</th>\n",
       "    </tr>\n",
       "  </thead>\n",
       "  <tbody>\n",
       "    <tr>\n",
       "      <th>0</th>\n",
       "      <td>patient_id_1270</td>\n",
       "      <td>43.6</td>\n",
       "      <td>14.5</td>\n",
       "      <td>5.52</td>\n",
       "      <td>3.0</td>\n",
       "      <td>237</td>\n",
       "      <td>27.5</td>\n",
       "      <td>33.6</td>\n",
       "      <td>81.7</td>\n",
       "      <td>32</td>\n",
       "      <td>F</td>\n",
       "      <td>0</td>\n",
       "    </tr>\n",
       "    <tr>\n",
       "      <th>1</th>\n",
       "      <td>patient_id_1762</td>\n",
       "      <td>44.3</td>\n",
       "      <td>14.4</td>\n",
       "      <td>5.09</td>\n",
       "      <td>7.3</td>\n",
       "      <td>255</td>\n",
       "      <td>29.7</td>\n",
       "      <td>32.9</td>\n",
       "      <td>90.4</td>\n",
       "      <td>40</td>\n",
       "      <td>M</td>\n",
       "      <td>0</td>\n",
       "    </tr>\n",
       "    <tr>\n",
       "      <th>2</th>\n",
       "      <td>patient_id_3355</td>\n",
       "      <td>36.2</td>\n",
       "      <td>12.5</td>\n",
       "      <td>4.57</td>\n",
       "      <td>7.8</td>\n",
       "      <td>263</td>\n",
       "      <td>28.9</td>\n",
       "      <td>35.0</td>\n",
       "      <td>82.6</td>\n",
       "      <td>65</td>\n",
       "      <td>F</td>\n",
       "      <td>0</td>\n",
       "    </tr>\n",
       "    <tr>\n",
       "      <th>3</th>\n",
       "      <td>patient_id_2443</td>\n",
       "      <td>46.1</td>\n",
       "      <td>14.7</td>\n",
       "      <td>5.38</td>\n",
       "      <td>8.5</td>\n",
       "      <td>320</td>\n",
       "      <td>28.6</td>\n",
       "      <td>32.2</td>\n",
       "      <td>88.8</td>\n",
       "      <td>52</td>\n",
       "      <td>M</td>\n",
       "      <td>0</td>\n",
       "    </tr>\n",
       "    <tr>\n",
       "      <th>4</th>\n",
       "      <td>patient_id_3414</td>\n",
       "      <td>31.8</td>\n",
       "      <td>10.9</td>\n",
       "      <td>4.05</td>\n",
       "      <td>26.9</td>\n",
       "      <td>220</td>\n",
       "      <td>28.6</td>\n",
       "      <td>34.8</td>\n",
       "      <td>82.3</td>\n",
       "      <td>66</td>\n",
       "      <td>F</td>\n",
       "      <td>1</td>\n",
       "    </tr>\n",
       "  </tbody>\n",
       "</table>\n",
       "</div>"
      ],
      "text/plain": [
       "       patient_id_  HAEMATOCRIT  HAEMOGLOBINS  ERYTHROCYTE  LEUCOCYTE  \\\n",
       "0  patient_id_1270         43.6          14.5         5.52        3.0   \n",
       "1  patient_id_1762         44.3          14.4         5.09        7.3   \n",
       "2  patient_id_3355         36.2          12.5         4.57        7.8   \n",
       "3  patient_id_2443         46.1          14.7         5.38        8.5   \n",
       "4  patient_id_3414         31.8          10.9         4.05       26.9   \n",
       "\n",
       "   THROMBOCYTE   MCH  MCHC   MCV  AGE SEX  SOURCE  \n",
       "0          237  27.5  33.6  81.7   32   F       0  \n",
       "1          255  29.7  32.9  90.4   40   M       0  \n",
       "2          263  28.9  35.0  82.6   65   F       0  \n",
       "3          320  28.6  32.2  88.8   52   M       0  \n",
       "4          220  28.6  34.8  82.3   66   F       1  "
      ]
     },
     "execution_count": 3,
     "metadata": {},
     "output_type": "execute_result"
    }
   ],
   "source": [
    "train_patient.head()"
   ]
  },
  {
   "cell_type": "code",
   "execution_count": 4,
   "id": "a74932f1",
   "metadata": {},
   "outputs": [
    {
     "data": {
      "text/html": [
       "<div>\n",
       "<style scoped>\n",
       "    .dataframe tbody tr th:only-of-type {\n",
       "        vertical-align: middle;\n",
       "    }\n",
       "\n",
       "    .dataframe tbody tr th {\n",
       "        vertical-align: top;\n",
       "    }\n",
       "\n",
       "    .dataframe thead th {\n",
       "        text-align: right;\n",
       "    }\n",
       "</style>\n",
       "<table border=\"1\" class=\"dataframe\">\n",
       "  <thead>\n",
       "    <tr style=\"text-align: right;\">\n",
       "      <th></th>\n",
       "      <th>patient_id_</th>\n",
       "      <th>HAEMATOCRIT</th>\n",
       "      <th>HAEMOGLOBINS</th>\n",
       "      <th>ERYTHROCYTE</th>\n",
       "      <th>LEUCOCYTE</th>\n",
       "      <th>THROMBOCYTE</th>\n",
       "      <th>MCH</th>\n",
       "      <th>MCHC</th>\n",
       "      <th>MCV</th>\n",
       "      <th>AGE</th>\n",
       "      <th>SEX</th>\n",
       "    </tr>\n",
       "  </thead>\n",
       "  <tbody>\n",
       "    <tr>\n",
       "      <th>0</th>\n",
       "      <td>patient_id_4373</td>\n",
       "      <td>33.0</td>\n",
       "      <td>11.1</td>\n",
       "      <td>4.15</td>\n",
       "      <td>11.1</td>\n",
       "      <td>329</td>\n",
       "      <td>28.4</td>\n",
       "      <td>34.1</td>\n",
       "      <td>83.2</td>\n",
       "      <td>89</td>\n",
       "      <td>F</td>\n",
       "    </tr>\n",
       "    <tr>\n",
       "      <th>1</th>\n",
       "      <td>patient_id_2204</td>\n",
       "      <td>34.0</td>\n",
       "      <td>11.1</td>\n",
       "      <td>4.23</td>\n",
       "      <td>9.7</td>\n",
       "      <td>120</td>\n",
       "      <td>27.9</td>\n",
       "      <td>33.1</td>\n",
       "      <td>84.1</td>\n",
       "      <td>47</td>\n",
       "      <td>F</td>\n",
       "    </tr>\n",
       "    <tr>\n",
       "      <th>2</th>\n",
       "      <td>patient_id_93</td>\n",
       "      <td>42.4</td>\n",
       "      <td>14.1</td>\n",
       "      <td>5.71</td>\n",
       "      <td>4.3</td>\n",
       "      <td>239</td>\n",
       "      <td>25.8</td>\n",
       "      <td>33.6</td>\n",
       "      <td>76.7</td>\n",
       "      <td>3</td>\n",
       "      <td>M</td>\n",
       "    </tr>\n",
       "    <tr>\n",
       "      <th>3</th>\n",
       "      <td>patient_id_798</td>\n",
       "      <td>40.3</td>\n",
       "      <td>13.4</td>\n",
       "      <td>5.19</td>\n",
       "      <td>4.7</td>\n",
       "      <td>208</td>\n",
       "      <td>27.1</td>\n",
       "      <td>33.7</td>\n",
       "      <td>80.5</td>\n",
       "      <td>25</td>\n",
       "      <td>F</td>\n",
       "    </tr>\n",
       "    <tr>\n",
       "      <th>4</th>\n",
       "      <td>patient_id_789</td>\n",
       "      <td>33.3</td>\n",
       "      <td>11.4</td>\n",
       "      <td>4.28</td>\n",
       "      <td>7.5</td>\n",
       "      <td>206</td>\n",
       "      <td>28.3</td>\n",
       "      <td>34.7</td>\n",
       "      <td>81.3</td>\n",
       "      <td>25</td>\n",
       "      <td>F</td>\n",
       "    </tr>\n",
       "  </tbody>\n",
       "</table>\n",
       "</div>"
      ],
      "text/plain": [
       "       patient_id_  HAEMATOCRIT  HAEMOGLOBINS  ERYTHROCYTE  LEUCOCYTE  \\\n",
       "0  patient_id_4373         33.0          11.1         4.15       11.1   \n",
       "1  patient_id_2204         34.0          11.1         4.23        9.7   \n",
       "2    patient_id_93         42.4          14.1         5.71        4.3   \n",
       "3   patient_id_798         40.3          13.4         5.19        4.7   \n",
       "4   patient_id_789         33.3          11.4         4.28        7.5   \n",
       "\n",
       "   THROMBOCYTE   MCH  MCHC   MCV  AGE SEX  \n",
       "0          329  28.4  34.1  83.2   89   F  \n",
       "1          120  27.9  33.1  84.1   47   F  \n",
       "2          239  25.8  33.6  76.7    3   M  \n",
       "3          208  27.1  33.7  80.5   25   F  \n",
       "4          206  28.3  34.7  81.3   25   F  "
      ]
     },
     "execution_count": 4,
     "metadata": {},
     "output_type": "execute_result"
    }
   ],
   "source": [
    "test_patient.head()"
   ]
  },
  {
   "cell_type": "code",
   "execution_count": 5,
   "id": "cb5f1dbf",
   "metadata": {},
   "outputs": [
    {
     "data": {
      "text/html": [
       "<div>\n",
       "<style scoped>\n",
       "    .dataframe tbody tr th:only-of-type {\n",
       "        vertical-align: middle;\n",
       "    }\n",
       "\n",
       "    .dataframe tbody tr th {\n",
       "        vertical-align: top;\n",
       "    }\n",
       "\n",
       "    .dataframe thead th {\n",
       "        text-align: right;\n",
       "    }\n",
       "</style>\n",
       "<table border=\"1\" class=\"dataframe\">\n",
       "  <thead>\n",
       "    <tr style=\"text-align: right;\">\n",
       "      <th></th>\n",
       "      <th>patient_id_</th>\n",
       "      <th>SOURCE</th>\n",
       "    </tr>\n",
       "  </thead>\n",
       "  <tbody>\n",
       "    <tr>\n",
       "      <th>0</th>\n",
       "      <td>patient_id_4373</td>\n",
       "      <td>1</td>\n",
       "    </tr>\n",
       "    <tr>\n",
       "      <th>1</th>\n",
       "      <td>patient_id_2204</td>\n",
       "      <td>1</td>\n",
       "    </tr>\n",
       "    <tr>\n",
       "      <th>2</th>\n",
       "      <td>patient_id_93</td>\n",
       "      <td>1</td>\n",
       "    </tr>\n",
       "    <tr>\n",
       "      <th>3</th>\n",
       "      <td>patient_id_798</td>\n",
       "      <td>1</td>\n",
       "    </tr>\n",
       "    <tr>\n",
       "      <th>4</th>\n",
       "      <td>patient_id_789</td>\n",
       "      <td>1</td>\n",
       "    </tr>\n",
       "  </tbody>\n",
       "</table>\n",
       "</div>"
      ],
      "text/plain": [
       "       patient_id_  SOURCE\n",
       "0  patient_id_4373       1\n",
       "1  patient_id_2204       1\n",
       "2    patient_id_93       1\n",
       "3   patient_id_798       1\n",
       "4   patient_id_789       1"
      ]
     },
     "execution_count": 5,
     "metadata": {},
     "output_type": "execute_result"
    }
   ],
   "source": [
    "sample_patient.head()"
   ]
  },
  {
   "cell_type": "markdown",
   "id": "3f5a1939",
   "metadata": {},
   "source": [
    "### Exploratory Data Analysis"
   ]
  },
  {
   "cell_type": "code",
   "execution_count": 6,
   "id": "171c929e",
   "metadata": {},
   "outputs": [
    {
     "data": {
      "text/plain": [
       "((3088, 12), (1324, 11), (1324, 2))"
      ]
     },
     "execution_count": 6,
     "metadata": {},
     "output_type": "execute_result"
    }
   ],
   "source": [
    "train_patient.shape, test_patient.shape, sample_patient.shape"
   ]
  },
  {
   "cell_type": "code",
   "execution_count": 7,
   "id": "67eb5a24",
   "metadata": {},
   "outputs": [
    {
     "data": {
      "text/plain": [
       "['SOURCE']"
      ]
     },
     "execution_count": 7,
     "metadata": {},
     "output_type": "execute_result"
    }
   ],
   "source": [
    "target_label = [col for col in train_patient.columns if col not in test_patient.columns]\n",
    "target_label"
   ]
  },
  {
   "cell_type": "code",
   "execution_count": 8,
   "id": "cbfc95d9",
   "metadata": {},
   "outputs": [
    {
     "name": "stdout",
     "output_type": "stream",
     "text": [
      "<class 'pandas.core.frame.DataFrame'>\n",
      "RangeIndex: 3088 entries, 0 to 3087\n",
      "Data columns (total 12 columns):\n",
      " #   Column        Non-Null Count  Dtype  \n",
      "---  ------        --------------  -----  \n",
      " 0   patient_id_   3088 non-null   object \n",
      " 1   HAEMATOCRIT   3088 non-null   float64\n",
      " 2   HAEMOGLOBINS  3088 non-null   float64\n",
      " 3   ERYTHROCYTE   3088 non-null   float64\n",
      " 4   LEUCOCYTE     3088 non-null   float64\n",
      " 5   THROMBOCYTE   3088 non-null   int64  \n",
      " 6   MCH           3088 non-null   float64\n",
      " 7   MCHC          3088 non-null   float64\n",
      " 8   MCV           3088 non-null   float64\n",
      " 9   AGE           3088 non-null   int64  \n",
      " 10  SEX           3088 non-null   object \n",
      " 11  SOURCE        3088 non-null   int64  \n",
      "dtypes: float64(7), int64(3), object(2)\n",
      "memory usage: 289.6+ KB\n"
     ]
    }
   ],
   "source": [
    "train_patient.info()"
   ]
  },
  {
   "cell_type": "code",
   "execution_count": 9,
   "id": "054dbf26",
   "metadata": {},
   "outputs": [
    {
     "data": {
      "text/html": [
       "<div>\n",
       "<style scoped>\n",
       "    .dataframe tbody tr th:only-of-type {\n",
       "        vertical-align: middle;\n",
       "    }\n",
       "\n",
       "    .dataframe tbody tr th {\n",
       "        vertical-align: top;\n",
       "    }\n",
       "\n",
       "    .dataframe thead th {\n",
       "        text-align: right;\n",
       "    }\n",
       "</style>\n",
       "<table border=\"1\" class=\"dataframe\">\n",
       "  <thead>\n",
       "    <tr style=\"text-align: right;\">\n",
       "      <th></th>\n",
       "      <th>HAEMATOCRIT</th>\n",
       "      <th>HAEMOGLOBINS</th>\n",
       "      <th>ERYTHROCYTE</th>\n",
       "      <th>LEUCOCYTE</th>\n",
       "      <th>THROMBOCYTE</th>\n",
       "      <th>MCH</th>\n",
       "      <th>MCHC</th>\n",
       "      <th>MCV</th>\n",
       "      <th>AGE</th>\n",
       "      <th>SOURCE</th>\n",
       "    </tr>\n",
       "  </thead>\n",
       "  <tbody>\n",
       "    <tr>\n",
       "      <th>count</th>\n",
       "      <td>3088.000000</td>\n",
       "      <td>3088.000000</td>\n",
       "      <td>3088.000000</td>\n",
       "      <td>3088.000000</td>\n",
       "      <td>3088.000000</td>\n",
       "      <td>3088.000000</td>\n",
       "      <td>3088.000000</td>\n",
       "      <td>3088.000000</td>\n",
       "      <td>3088.000000</td>\n",
       "      <td>3088.000000</td>\n",
       "    </tr>\n",
       "    <tr>\n",
       "      <th>mean</th>\n",
       "      <td>38.381865</td>\n",
       "      <td>12.638472</td>\n",
       "      <td>4.752160</td>\n",
       "      <td>8.788504</td>\n",
       "      <td>260.652850</td>\n",
       "      <td>28.218264</td>\n",
       "      <td>33.352364</td>\n",
       "      <td>84.540026</td>\n",
       "      <td>46.617876</td>\n",
       "      <td>0.409974</td>\n",
       "    </tr>\n",
       "    <tr>\n",
       "      <th>std</th>\n",
       "      <td>6.070420</td>\n",
       "      <td>2.104983</td>\n",
       "      <td>0.792281</td>\n",
       "      <td>5.055580</td>\n",
       "      <td>115.504157</td>\n",
       "      <td>2.658656</td>\n",
       "      <td>1.227691</td>\n",
       "      <td>6.814936</td>\n",
       "      <td>21.684646</td>\n",
       "      <td>0.491908</td>\n",
       "    </tr>\n",
       "    <tr>\n",
       "      <th>min</th>\n",
       "      <td>13.900000</td>\n",
       "      <td>4.300000</td>\n",
       "      <td>1.690000</td>\n",
       "      <td>1.200000</td>\n",
       "      <td>13.000000</td>\n",
       "      <td>14.900000</td>\n",
       "      <td>26.400000</td>\n",
       "      <td>54.000000</td>\n",
       "      <td>1.000000</td>\n",
       "      <td>0.000000</td>\n",
       "    </tr>\n",
       "    <tr>\n",
       "      <th>25%</th>\n",
       "      <td>34.500000</td>\n",
       "      <td>11.275000</td>\n",
       "      <td>4.240000</td>\n",
       "      <td>5.700000</td>\n",
       "      <td>191.000000</td>\n",
       "      <td>27.200000</td>\n",
       "      <td>32.700000</td>\n",
       "      <td>81.500000</td>\n",
       "      <td>29.000000</td>\n",
       "      <td>0.000000</td>\n",
       "    </tr>\n",
       "    <tr>\n",
       "      <th>50%</th>\n",
       "      <td>38.800000</td>\n",
       "      <td>12.800000</td>\n",
       "      <td>4.790000</td>\n",
       "      <td>7.600000</td>\n",
       "      <td>259.000000</td>\n",
       "      <td>28.700000</td>\n",
       "      <td>33.400000</td>\n",
       "      <td>85.400000</td>\n",
       "      <td>47.000000</td>\n",
       "      <td>0.000000</td>\n",
       "    </tr>\n",
       "    <tr>\n",
       "      <th>75%</th>\n",
       "      <td>42.700000</td>\n",
       "      <td>14.200000</td>\n",
       "      <td>5.260000</td>\n",
       "      <td>10.400000</td>\n",
       "      <td>325.000000</td>\n",
       "      <td>29.800000</td>\n",
       "      <td>34.100000</td>\n",
       "      <td>88.700000</td>\n",
       "      <td>64.000000</td>\n",
       "      <td>1.000000</td>\n",
       "    </tr>\n",
       "    <tr>\n",
       "      <th>max</th>\n",
       "      <td>69.200000</td>\n",
       "      <td>18.100000</td>\n",
       "      <td>8.070000</td>\n",
       "      <td>76.700000</td>\n",
       "      <td>1188.000000</td>\n",
       "      <td>36.800000</td>\n",
       "      <td>39.000000</td>\n",
       "      <td>105.300000</td>\n",
       "      <td>99.000000</td>\n",
       "      <td>1.000000</td>\n",
       "    </tr>\n",
       "  </tbody>\n",
       "</table>\n",
       "</div>"
      ],
      "text/plain": [
       "       HAEMATOCRIT  HAEMOGLOBINS  ERYTHROCYTE    LEUCOCYTE  THROMBOCYTE  \\\n",
       "count  3088.000000   3088.000000  3088.000000  3088.000000  3088.000000   \n",
       "mean     38.381865     12.638472     4.752160     8.788504   260.652850   \n",
       "std       6.070420      2.104983     0.792281     5.055580   115.504157   \n",
       "min      13.900000      4.300000     1.690000     1.200000    13.000000   \n",
       "25%      34.500000     11.275000     4.240000     5.700000   191.000000   \n",
       "50%      38.800000     12.800000     4.790000     7.600000   259.000000   \n",
       "75%      42.700000     14.200000     5.260000    10.400000   325.000000   \n",
       "max      69.200000     18.100000     8.070000    76.700000  1188.000000   \n",
       "\n",
       "               MCH         MCHC          MCV          AGE       SOURCE  \n",
       "count  3088.000000  3088.000000  3088.000000  3088.000000  3088.000000  \n",
       "mean     28.218264    33.352364    84.540026    46.617876     0.409974  \n",
       "std       2.658656     1.227691     6.814936    21.684646     0.491908  \n",
       "min      14.900000    26.400000    54.000000     1.000000     0.000000  \n",
       "25%      27.200000    32.700000    81.500000    29.000000     0.000000  \n",
       "50%      28.700000    33.400000    85.400000    47.000000     0.000000  \n",
       "75%      29.800000    34.100000    88.700000    64.000000     1.000000  \n",
       "max      36.800000    39.000000   105.300000    99.000000     1.000000  "
      ]
     },
     "execution_count": 9,
     "metadata": {},
     "output_type": "execute_result"
    }
   ],
   "source": [
    "train_patient.describe()"
   ]
  },
  {
   "cell_type": "code",
   "execution_count": 10,
   "id": "29e670ad",
   "metadata": {},
   "outputs": [
    {
     "data": {
      "text/html": [
       "<div>\n",
       "<style scoped>\n",
       "    .dataframe tbody tr th:only-of-type {\n",
       "        vertical-align: middle;\n",
       "    }\n",
       "\n",
       "    .dataframe tbody tr th {\n",
       "        vertical-align: top;\n",
       "    }\n",
       "\n",
       "    .dataframe thead th {\n",
       "        text-align: right;\n",
       "    }\n",
       "</style>\n",
       "<table border=\"1\" class=\"dataframe\">\n",
       "  <thead>\n",
       "    <tr style=\"text-align: right;\">\n",
       "      <th></th>\n",
       "      <th>HAEMATOCRIT</th>\n",
       "      <th>HAEMOGLOBINS</th>\n",
       "      <th>ERYTHROCYTE</th>\n",
       "      <th>LEUCOCYTE</th>\n",
       "      <th>THROMBOCYTE</th>\n",
       "      <th>MCH</th>\n",
       "      <th>MCHC</th>\n",
       "      <th>MCV</th>\n",
       "      <th>AGE</th>\n",
       "    </tr>\n",
       "  </thead>\n",
       "  <tbody>\n",
       "    <tr>\n",
       "      <th>count</th>\n",
       "      <td>1324.000000</td>\n",
       "      <td>1324.000000</td>\n",
       "      <td>1324.000000</td>\n",
       "      <td>1324.000000</td>\n",
       "      <td>1324.000000</td>\n",
       "      <td>1324.000000</td>\n",
       "      <td>1324.000000</td>\n",
       "      <td>1324.000000</td>\n",
       "      <td>1324.000000</td>\n",
       "    </tr>\n",
       "    <tr>\n",
       "      <th>mean</th>\n",
       "      <td>38.434592</td>\n",
       "      <td>12.649320</td>\n",
       "      <td>4.749162</td>\n",
       "      <td>8.888822</td>\n",
       "      <td>266.889728</td>\n",
       "      <td>28.273036</td>\n",
       "      <td>33.321299</td>\n",
       "      <td>84.783006</td>\n",
       "      <td>46.646526</td>\n",
       "    </tr>\n",
       "    <tr>\n",
       "      <th>std</th>\n",
       "      <td>5.747626</td>\n",
       "      <td>2.020961</td>\n",
       "      <td>0.764941</td>\n",
       "      <td>5.034963</td>\n",
       "      <td>110.236480</td>\n",
       "      <td>2.705596</td>\n",
       "      <td>1.231122</td>\n",
       "      <td>6.960646</td>\n",
       "      <td>21.847658</td>\n",
       "    </tr>\n",
       "    <tr>\n",
       "      <th>min</th>\n",
       "      <td>14.800000</td>\n",
       "      <td>3.700000</td>\n",
       "      <td>2.190000</td>\n",
       "      <td>1.200000</td>\n",
       "      <td>15.000000</td>\n",
       "      <td>16.500000</td>\n",
       "      <td>26.000000</td>\n",
       "      <td>54.100000</td>\n",
       "      <td>1.000000</td>\n",
       "    </tr>\n",
       "    <tr>\n",
       "      <th>25%</th>\n",
       "      <td>34.800000</td>\n",
       "      <td>11.400000</td>\n",
       "      <td>4.290000</td>\n",
       "      <td>5.900000</td>\n",
       "      <td>200.000000</td>\n",
       "      <td>27.100000</td>\n",
       "      <td>32.600000</td>\n",
       "      <td>81.600000</td>\n",
       "      <td>29.000000</td>\n",
       "    </tr>\n",
       "    <tr>\n",
       "      <th>50%</th>\n",
       "      <td>38.850000</td>\n",
       "      <td>12.800000</td>\n",
       "      <td>4.770000</td>\n",
       "      <td>7.700000</td>\n",
       "      <td>267.000000</td>\n",
       "      <td>28.700000</td>\n",
       "      <td>33.400000</td>\n",
       "      <td>85.400000</td>\n",
       "      <td>48.000000</td>\n",
       "    </tr>\n",
       "    <tr>\n",
       "      <th>75%</th>\n",
       "      <td>42.700000</td>\n",
       "      <td>14.025000</td>\n",
       "      <td>5.270000</td>\n",
       "      <td>10.600000</td>\n",
       "      <td>327.000000</td>\n",
       "      <td>29.900000</td>\n",
       "      <td>34.100000</td>\n",
       "      <td>88.800000</td>\n",
       "      <td>64.000000</td>\n",
       "    </tr>\n",
       "    <tr>\n",
       "      <th>max</th>\n",
       "      <td>58.300000</td>\n",
       "      <td>18.800000</td>\n",
       "      <td>7.170000</td>\n",
       "      <td>60.900000</td>\n",
       "      <td>979.000000</td>\n",
       "      <td>40.800000</td>\n",
       "      <td>37.600000</td>\n",
       "      <td>115.600000</td>\n",
       "      <td>98.000000</td>\n",
       "    </tr>\n",
       "  </tbody>\n",
       "</table>\n",
       "</div>"
      ],
      "text/plain": [
       "       HAEMATOCRIT  HAEMOGLOBINS  ERYTHROCYTE    LEUCOCYTE  THROMBOCYTE  \\\n",
       "count  1324.000000   1324.000000  1324.000000  1324.000000  1324.000000   \n",
       "mean     38.434592     12.649320     4.749162     8.888822   266.889728   \n",
       "std       5.747626      2.020961     0.764941     5.034963   110.236480   \n",
       "min      14.800000      3.700000     2.190000     1.200000    15.000000   \n",
       "25%      34.800000     11.400000     4.290000     5.900000   200.000000   \n",
       "50%      38.850000     12.800000     4.770000     7.700000   267.000000   \n",
       "75%      42.700000     14.025000     5.270000    10.600000   327.000000   \n",
       "max      58.300000     18.800000     7.170000    60.900000   979.000000   \n",
       "\n",
       "               MCH         MCHC          MCV          AGE  \n",
       "count  1324.000000  1324.000000  1324.000000  1324.000000  \n",
       "mean     28.273036    33.321299    84.783006    46.646526  \n",
       "std       2.705596     1.231122     6.960646    21.847658  \n",
       "min      16.500000    26.000000    54.100000     1.000000  \n",
       "25%      27.100000    32.600000    81.600000    29.000000  \n",
       "50%      28.700000    33.400000    85.400000    48.000000  \n",
       "75%      29.900000    34.100000    88.800000    64.000000  \n",
       "max      40.800000    37.600000   115.600000    98.000000  "
      ]
     },
     "execution_count": 10,
     "metadata": {},
     "output_type": "execute_result"
    }
   ],
   "source": [
    "test_patient.describe()"
   ]
  },
  {
   "cell_type": "code",
   "execution_count": 11,
   "id": "6348e62b",
   "metadata": {},
   "outputs": [
    {
     "data": {
      "text/plain": [
       "[]"
      ]
     },
     "execution_count": 11,
     "metadata": {},
     "output_type": "execute_result"
    }
   ],
   "source": [
    "#grouping the features into categorical and numerical\n",
    "\n",
    "categorical_feat = [patient_id_ for patient_id_ in train_patient.columns if train_patient[patient_id_].all() == '0']\n",
    "categorical_feat"
   ]
  },
  {
   "cell_type": "code",
   "execution_count": 12,
   "id": "5a52b97d",
   "metadata": {},
   "outputs": [
    {
     "data": {
      "text/plain": [
       "['patient_id_',\n",
       " 'HAEMATOCRIT',\n",
       " 'HAEMOGLOBINS',\n",
       " 'ERYTHROCYTE',\n",
       " 'LEUCOCYTE',\n",
       " 'THROMBOCYTE',\n",
       " 'MCH',\n",
       " 'MCHC',\n",
       " 'MCV',\n",
       " 'AGE',\n",
       " 'SEX',\n",
       " 'SOURCE']"
      ]
     },
     "execution_count": 12,
     "metadata": {},
     "output_type": "execute_result"
    }
   ],
   "source": [
    "num_feat = [feat for feat in train_patient.columns if feat not in categorical_feat]\n",
    "num_feat"
   ]
  },
  {
   "cell_type": "code",
   "execution_count": 13,
   "id": "a759f690",
   "metadata": {},
   "outputs": [
    {
     "data": {
      "text/html": [
       "<div>\n",
       "<style scoped>\n",
       "    .dataframe tbody tr th:only-of-type {\n",
       "        vertical-align: middle;\n",
       "    }\n",
       "\n",
       "    .dataframe tbody tr th {\n",
       "        vertical-align: top;\n",
       "    }\n",
       "\n",
       "    .dataframe thead th {\n",
       "        text-align: right;\n",
       "    }\n",
       "</style>\n",
       "<table border=\"1\" class=\"dataframe\">\n",
       "  <thead>\n",
       "    <tr style=\"text-align: right;\">\n",
       "      <th></th>\n",
       "      <th>patient_id_</th>\n",
       "      <th>HAEMATOCRIT</th>\n",
       "      <th>HAEMOGLOBINS</th>\n",
       "      <th>ERYTHROCYTE</th>\n",
       "      <th>LEUCOCYTE</th>\n",
       "      <th>THROMBOCYTE</th>\n",
       "      <th>MCH</th>\n",
       "      <th>MCHC</th>\n",
       "      <th>MCV</th>\n",
       "      <th>AGE</th>\n",
       "      <th>SEX</th>\n",
       "      <th>SOURCE</th>\n",
       "    </tr>\n",
       "  </thead>\n",
       "  <tbody>\n",
       "    <tr>\n",
       "      <th>0</th>\n",
       "      <td>patient_id_1270</td>\n",
       "      <td>43.6</td>\n",
       "      <td>14.5</td>\n",
       "      <td>5.52</td>\n",
       "      <td>3.0</td>\n",
       "      <td>237</td>\n",
       "      <td>27.5</td>\n",
       "      <td>33.6</td>\n",
       "      <td>81.7</td>\n",
       "      <td>32</td>\n",
       "      <td>F</td>\n",
       "      <td>0</td>\n",
       "    </tr>\n",
       "    <tr>\n",
       "      <th>1</th>\n",
       "      <td>patient_id_1762</td>\n",
       "      <td>44.3</td>\n",
       "      <td>14.4</td>\n",
       "      <td>5.09</td>\n",
       "      <td>7.3</td>\n",
       "      <td>255</td>\n",
       "      <td>29.7</td>\n",
       "      <td>32.9</td>\n",
       "      <td>90.4</td>\n",
       "      <td>40</td>\n",
       "      <td>M</td>\n",
       "      <td>0</td>\n",
       "    </tr>\n",
       "    <tr>\n",
       "      <th>2</th>\n",
       "      <td>patient_id_3355</td>\n",
       "      <td>36.2</td>\n",
       "      <td>12.5</td>\n",
       "      <td>4.57</td>\n",
       "      <td>7.8</td>\n",
       "      <td>263</td>\n",
       "      <td>28.9</td>\n",
       "      <td>35.0</td>\n",
       "      <td>82.6</td>\n",
       "      <td>65</td>\n",
       "      <td>F</td>\n",
       "      <td>0</td>\n",
       "    </tr>\n",
       "    <tr>\n",
       "      <th>3</th>\n",
       "      <td>patient_id_2443</td>\n",
       "      <td>46.1</td>\n",
       "      <td>14.7</td>\n",
       "      <td>5.38</td>\n",
       "      <td>8.5</td>\n",
       "      <td>320</td>\n",
       "      <td>28.6</td>\n",
       "      <td>32.2</td>\n",
       "      <td>88.8</td>\n",
       "      <td>52</td>\n",
       "      <td>M</td>\n",
       "      <td>0</td>\n",
       "    </tr>\n",
       "    <tr>\n",
       "      <th>4</th>\n",
       "      <td>patient_id_3414</td>\n",
       "      <td>31.8</td>\n",
       "      <td>10.9</td>\n",
       "      <td>4.05</td>\n",
       "      <td>26.9</td>\n",
       "      <td>220</td>\n",
       "      <td>28.6</td>\n",
       "      <td>34.8</td>\n",
       "      <td>82.3</td>\n",
       "      <td>66</td>\n",
       "      <td>F</td>\n",
       "      <td>1</td>\n",
       "    </tr>\n",
       "  </tbody>\n",
       "</table>\n",
       "</div>"
      ],
      "text/plain": [
       "       patient_id_  HAEMATOCRIT  HAEMOGLOBINS  ERYTHROCYTE  LEUCOCYTE  \\\n",
       "0  patient_id_1270         43.6          14.5         5.52        3.0   \n",
       "1  patient_id_1762         44.3          14.4         5.09        7.3   \n",
       "2  patient_id_3355         36.2          12.5         4.57        7.8   \n",
       "3  patient_id_2443         46.1          14.7         5.38        8.5   \n",
       "4  patient_id_3414         31.8          10.9         4.05       26.9   \n",
       "\n",
       "   THROMBOCYTE   MCH  MCHC   MCV  AGE SEX  SOURCE  \n",
       "0          237  27.5  33.6  81.7   32   F       0  \n",
       "1          255  29.7  32.9  90.4   40   M       0  \n",
       "2          263  28.9  35.0  82.6   65   F       0  \n",
       "3          320  28.6  32.2  88.8   52   M       0  \n",
       "4          220  28.6  34.8  82.3   66   F       1  "
      ]
     },
     "execution_count": 13,
     "metadata": {},
     "output_type": "execute_result"
    }
   ],
   "source": [
    "train_patient[num_feat].head()"
   ]
  },
  {
   "cell_type": "code",
   "execution_count": 14,
   "id": "da38dc05",
   "metadata": {},
   "outputs": [
    {
     "data": {
      "text/plain": [
       "['HAEMATOCRIT',\n",
       " 'HAEMOGLOBINS',\n",
       " 'ERYTHROCYTE',\n",
       " 'LEUCOCYTE',\n",
       " 'THROMBOCYTE',\n",
       " 'MCH',\n",
       " 'MCHC',\n",
       " 'MCV',\n",
       " 'AGE',\n",
       " 'SEX']"
      ]
     },
     "execution_count": 14,
     "metadata": {},
     "output_type": "execute_result"
    }
   ],
   "source": [
    "rem = [\"patient_id_\", \"SOURCE\"]\n",
    "\n",
    "for i in rem:\n",
    "    num_feat.remove(i)\n",
    "    \n",
    "num_feat"
   ]
  },
  {
   "cell_type": "code",
   "execution_count": 15,
   "id": "9515d26a",
   "metadata": {},
   "outputs": [
    {
     "data": {
      "text/html": [
       "<div>\n",
       "<style scoped>\n",
       "    .dataframe tbody tr th:only-of-type {\n",
       "        vertical-align: middle;\n",
       "    }\n",
       "\n",
       "    .dataframe tbody tr th {\n",
       "        vertical-align: top;\n",
       "    }\n",
       "\n",
       "    .dataframe thead th {\n",
       "        text-align: right;\n",
       "    }\n",
       "</style>\n",
       "<table border=\"1\" class=\"dataframe\">\n",
       "  <thead>\n",
       "    <tr style=\"text-align: right;\">\n",
       "      <th></th>\n",
       "      <th>HAEMATOCRIT</th>\n",
       "      <th>HAEMOGLOBINS</th>\n",
       "      <th>ERYTHROCYTE</th>\n",
       "      <th>LEUCOCYTE</th>\n",
       "      <th>THROMBOCYTE</th>\n",
       "      <th>MCH</th>\n",
       "      <th>MCHC</th>\n",
       "      <th>MCV</th>\n",
       "      <th>AGE</th>\n",
       "      <th>SEX</th>\n",
       "    </tr>\n",
       "  </thead>\n",
       "  <tbody>\n",
       "    <tr>\n",
       "      <th>0</th>\n",
       "      <td>43.6</td>\n",
       "      <td>14.5</td>\n",
       "      <td>5.52</td>\n",
       "      <td>3.0</td>\n",
       "      <td>237</td>\n",
       "      <td>27.5</td>\n",
       "      <td>33.6</td>\n",
       "      <td>81.7</td>\n",
       "      <td>32</td>\n",
       "      <td>F</td>\n",
       "    </tr>\n",
       "    <tr>\n",
       "      <th>1</th>\n",
       "      <td>44.3</td>\n",
       "      <td>14.4</td>\n",
       "      <td>5.09</td>\n",
       "      <td>7.3</td>\n",
       "      <td>255</td>\n",
       "      <td>29.7</td>\n",
       "      <td>32.9</td>\n",
       "      <td>90.4</td>\n",
       "      <td>40</td>\n",
       "      <td>M</td>\n",
       "    </tr>\n",
       "    <tr>\n",
       "      <th>2</th>\n",
       "      <td>36.2</td>\n",
       "      <td>12.5</td>\n",
       "      <td>4.57</td>\n",
       "      <td>7.8</td>\n",
       "      <td>263</td>\n",
       "      <td>28.9</td>\n",
       "      <td>35.0</td>\n",
       "      <td>82.6</td>\n",
       "      <td>65</td>\n",
       "      <td>F</td>\n",
       "    </tr>\n",
       "    <tr>\n",
       "      <th>3</th>\n",
       "      <td>46.1</td>\n",
       "      <td>14.7</td>\n",
       "      <td>5.38</td>\n",
       "      <td>8.5</td>\n",
       "      <td>320</td>\n",
       "      <td>28.6</td>\n",
       "      <td>32.2</td>\n",
       "      <td>88.8</td>\n",
       "      <td>52</td>\n",
       "      <td>M</td>\n",
       "    </tr>\n",
       "    <tr>\n",
       "      <th>4</th>\n",
       "      <td>31.8</td>\n",
       "      <td>10.9</td>\n",
       "      <td>4.05</td>\n",
       "      <td>26.9</td>\n",
       "      <td>220</td>\n",
       "      <td>28.6</td>\n",
       "      <td>34.8</td>\n",
       "      <td>82.3</td>\n",
       "      <td>66</td>\n",
       "      <td>F</td>\n",
       "    </tr>\n",
       "  </tbody>\n",
       "</table>\n",
       "</div>"
      ],
      "text/plain": [
       "   HAEMATOCRIT  HAEMOGLOBINS  ERYTHROCYTE  LEUCOCYTE  THROMBOCYTE   MCH  MCHC  \\\n",
       "0         43.6          14.5         5.52        3.0          237  27.5  33.6   \n",
       "1         44.3          14.4         5.09        7.3          255  29.7  32.9   \n",
       "2         36.2          12.5         4.57        7.8          263  28.9  35.0   \n",
       "3         46.1          14.7         5.38        8.5          320  28.6  32.2   \n",
       "4         31.8          10.9         4.05       26.9          220  28.6  34.8   \n",
       "\n",
       "    MCV  AGE SEX  \n",
       "0  81.7   32   F  \n",
       "1  90.4   40   M  \n",
       "2  82.6   65   F  \n",
       "3  88.8   52   M  \n",
       "4  82.3   66   F  "
      ]
     },
     "execution_count": 15,
     "metadata": {},
     "output_type": "execute_result"
    }
   ],
   "source": [
    "train_patient[num_feat].head()"
   ]
  },
  {
   "cell_type": "code",
   "execution_count": 16,
   "id": "f4601c8a",
   "metadata": {},
   "outputs": [
    {
     "data": {
      "text/plain": [
       "<AxesSubplot:xlabel='AGE', ylabel='Density'>"
      ]
     },
     "execution_count": 16,
     "metadata": {},
     "output_type": "execute_result"
    },
    {
     "data": {
      "image/png": "[encoded data removed]",
      "text/plain": [
       "<Figure size 432x288 with 1 Axes>"
      ]
     },
     "metadata": {
      "needs_background": "light"
     },
     "output_type": "display_data"
    }
   ],
   "source": [
    "sns.kdeplot(train_patient.AGE)"
   ]
  },
  {
   "cell_type": "code",
   "execution_count": 17,
   "id": "50151b3b",
   "metadata": {
    "scrolled": true
   },
   "outputs": [
    {
     "data": {
      "text/html": [
       "<div>\n",
       "<style scoped>\n",
       "    .dataframe tbody tr th:only-of-type {\n",
       "        vertical-align: middle;\n",
       "    }\n",
       "\n",
       "    .dataframe tbody tr th {\n",
       "        vertical-align: top;\n",
       "    }\n",
       "\n",
       "    .dataframe thead th {\n",
       "        text-align: right;\n",
       "    }\n",
       "</style>\n",
       "<table border=\"1\" class=\"dataframe\">\n",
       "  <thead>\n",
       "    <tr style=\"text-align: right;\">\n",
       "      <th></th>\n",
       "      <th>HAEMATOCRIT</th>\n",
       "      <th>HAEMOGLOBINS</th>\n",
       "      <th>ERYTHROCYTE</th>\n",
       "      <th>LEUCOCYTE</th>\n",
       "      <th>THROMBOCYTE</th>\n",
       "      <th>MCH</th>\n",
       "      <th>MCHC</th>\n",
       "      <th>MCV</th>\n",
       "      <th>AGE</th>\n",
       "      <th>SEX</th>\n",
       "    </tr>\n",
       "  </thead>\n",
       "  <tbody>\n",
       "    <tr>\n",
       "      <th>0</th>\n",
       "      <td>43.6</td>\n",
       "      <td>14.5</td>\n",
       "      <td>5.52</td>\n",
       "      <td>3.0</td>\n",
       "      <td>237</td>\n",
       "      <td>27.5</td>\n",
       "      <td>33.6</td>\n",
       "      <td>81.7</td>\n",
       "      <td>32</td>\n",
       "      <td>F</td>\n",
       "    </tr>\n",
       "    <tr>\n",
       "      <th>1</th>\n",
       "      <td>44.3</td>\n",
       "      <td>14.4</td>\n",
       "      <td>5.09</td>\n",
       "      <td>7.3</td>\n",
       "      <td>255</td>\n",
       "      <td>29.7</td>\n",
       "      <td>32.9</td>\n",
       "      <td>90.4</td>\n",
       "      <td>40</td>\n",
       "      <td>M</td>\n",
       "    </tr>\n",
       "    <tr>\n",
       "      <th>2</th>\n",
       "      <td>36.2</td>\n",
       "      <td>12.5</td>\n",
       "      <td>4.57</td>\n",
       "      <td>7.8</td>\n",
       "      <td>263</td>\n",
       "      <td>28.9</td>\n",
       "      <td>35.0</td>\n",
       "      <td>82.6</td>\n",
       "      <td>65</td>\n",
       "      <td>F</td>\n",
       "    </tr>\n",
       "    <tr>\n",
       "      <th>3</th>\n",
       "      <td>46.1</td>\n",
       "      <td>14.7</td>\n",
       "      <td>5.38</td>\n",
       "      <td>8.5</td>\n",
       "      <td>320</td>\n",
       "      <td>28.6</td>\n",
       "      <td>32.2</td>\n",
       "      <td>88.8</td>\n",
       "      <td>52</td>\n",
       "      <td>M</td>\n",
       "    </tr>\n",
       "    <tr>\n",
       "      <th>4</th>\n",
       "      <td>31.8</td>\n",
       "      <td>10.9</td>\n",
       "      <td>4.05</td>\n",
       "      <td>26.9</td>\n",
       "      <td>220</td>\n",
       "      <td>28.6</td>\n",
       "      <td>34.8</td>\n",
       "      <td>82.3</td>\n",
       "      <td>66</td>\n",
       "      <td>F</td>\n",
       "    </tr>\n",
       "  </tbody>\n",
       "</table>\n",
       "</div>"
      ],
      "text/plain": [
       "   HAEMATOCRIT  HAEMOGLOBINS  ERYTHROCYTE  LEUCOCYTE  THROMBOCYTE   MCH  MCHC  \\\n",
       "0         43.6          14.5         5.52        3.0          237  27.5  33.6   \n",
       "1         44.3          14.4         5.09        7.3          255  29.7  32.9   \n",
       "2         36.2          12.5         4.57        7.8          263  28.9  35.0   \n",
       "3         46.1          14.7         5.38        8.5          320  28.6  32.2   \n",
       "4         31.8          10.9         4.05       26.9          220  28.6  34.8   \n",
       "\n",
       "    MCV  AGE SEX  \n",
       "0  81.7   32   F  \n",
       "1  90.4   40   M  \n",
       "2  82.6   65   F  \n",
       "3  88.8   52   M  \n",
       "4  82.3   66   F  "
      ]
     },
     "execution_count": 17,
     "metadata": {},
     "output_type": "execute_result"
    }
   ],
   "source": [
    "train_patient[num_feat].head()"
   ]
  },
  {
   "cell_type": "markdown",
   "id": "733c92be",
   "metadata": {},
   "source": [
    "### Data Preprocessing "
   ]
  },
  {
   "cell_type": "markdown",
   "id": "9bde5f44",
   "metadata": {},
   "source": [
    "**Scaling The Dataset**"
   ]
  },
  {
   "cell_type": "code",
   "execution_count": 59,
   "id": "43321623",
   "metadata": {},
   "outputs": [],
   "source": [
    "from sklearn.model_selection import train_test_split\n",
    "from sklearn.linear_model import LinearRegression\n",
    "from sklearn.preprocessing import LabelEncoder, StandardScaler\n",
    "from sklearn import metrics\n",
    "from sklearn.naive_bayes import GaussianNB\n",
    "from xgboost import XGBRegressor"
   ]
  },
  {
   "cell_type": "code",
   "execution_count": 19,
   "id": "c60eddce",
   "metadata": {},
   "outputs": [
    {
     "data": {
      "text/plain": [
       "LabelEncoder()"
      ]
     },
     "execution_count": 19,
     "metadata": {},
     "output_type": "execute_result"
    }
   ],
   "source": [
    "le = LabelEncoder()\n",
    "le"
   ]
  },
  {
   "cell_type": "code",
   "execution_count": 20,
   "id": "de781f2a",
   "metadata": {},
   "outputs": [
    {
     "name": "stderr",
     "output_type": "stream",
     "text": [
      "C:\\Users\\DELL\\anaconda3\\lib\\site-packages\\pandas\\core\\generic.py:5494: SettingWithCopyWarning: \n",
      "A value is trying to be set on a copy of a slice from a DataFrame.\n",
      "Try using .loc[row_indexer,col_indexer] = value instead\n",
      "\n",
      "See the caveats in the documentation: https://pandas.pydata.org/pandas-docs/stable/user_guide/indexing.html#returning-a-view-versus-a-copy\n",
      "  self[name] = value\n"
     ]
    },
    {
     "data": {
      "text/html": [
       "<div>\n",
       "<style scoped>\n",
       "    .dataframe tbody tr th:only-of-type {\n",
       "        vertical-align: middle;\n",
       "    }\n",
       "\n",
       "    .dataframe tbody tr th {\n",
       "        vertical-align: top;\n",
       "    }\n",
       "\n",
       "    .dataframe thead th {\n",
       "        text-align: right;\n",
       "    }\n",
       "</style>\n",
       "<table border=\"1\" class=\"dataframe\">\n",
       "  <thead>\n",
       "    <tr style=\"text-align: right;\">\n",
       "      <th></th>\n",
       "      <th>HAEMATOCRIT</th>\n",
       "      <th>HAEMOGLOBINS</th>\n",
       "      <th>ERYTHROCYTE</th>\n",
       "      <th>LEUCOCYTE</th>\n",
       "      <th>THROMBOCYTE</th>\n",
       "      <th>MCH</th>\n",
       "      <th>MCHC</th>\n",
       "      <th>MCV</th>\n",
       "      <th>AGE</th>\n",
       "      <th>SEX</th>\n",
       "    </tr>\n",
       "  </thead>\n",
       "  <tbody>\n",
       "    <tr>\n",
       "      <th>0</th>\n",
       "      <td>43.6</td>\n",
       "      <td>14.5</td>\n",
       "      <td>5.52</td>\n",
       "      <td>3.0</td>\n",
       "      <td>237</td>\n",
       "      <td>27.5</td>\n",
       "      <td>33.6</td>\n",
       "      <td>81.7</td>\n",
       "      <td>32</td>\n",
       "      <td>0</td>\n",
       "    </tr>\n",
       "    <tr>\n",
       "      <th>1</th>\n",
       "      <td>44.3</td>\n",
       "      <td>14.4</td>\n",
       "      <td>5.09</td>\n",
       "      <td>7.3</td>\n",
       "      <td>255</td>\n",
       "      <td>29.7</td>\n",
       "      <td>32.9</td>\n",
       "      <td>90.4</td>\n",
       "      <td>40</td>\n",
       "      <td>1</td>\n",
       "    </tr>\n",
       "    <tr>\n",
       "      <th>2</th>\n",
       "      <td>36.2</td>\n",
       "      <td>12.5</td>\n",
       "      <td>4.57</td>\n",
       "      <td>7.8</td>\n",
       "      <td>263</td>\n",
       "      <td>28.9</td>\n",
       "      <td>35.0</td>\n",
       "      <td>82.6</td>\n",
       "      <td>65</td>\n",
       "      <td>0</td>\n",
       "    </tr>\n",
       "    <tr>\n",
       "      <th>3</th>\n",
       "      <td>46.1</td>\n",
       "      <td>14.7</td>\n",
       "      <td>5.38</td>\n",
       "      <td>8.5</td>\n",
       "      <td>320</td>\n",
       "      <td>28.6</td>\n",
       "      <td>32.2</td>\n",
       "      <td>88.8</td>\n",
       "      <td>52</td>\n",
       "      <td>1</td>\n",
       "    </tr>\n",
       "    <tr>\n",
       "      <th>4</th>\n",
       "      <td>31.8</td>\n",
       "      <td>10.9</td>\n",
       "      <td>4.05</td>\n",
       "      <td>26.9</td>\n",
       "      <td>220</td>\n",
       "      <td>28.6</td>\n",
       "      <td>34.8</td>\n",
       "      <td>82.3</td>\n",
       "      <td>66</td>\n",
       "      <td>0</td>\n",
       "    </tr>\n",
       "  </tbody>\n",
       "</table>\n",
       "</div>"
      ],
      "text/plain": [
       "   HAEMATOCRIT  HAEMOGLOBINS  ERYTHROCYTE  LEUCOCYTE  THROMBOCYTE   MCH  MCHC  \\\n",
       "0         43.6          14.5         5.52        3.0          237  27.5  33.6   \n",
       "1         44.3          14.4         5.09        7.3          255  29.7  32.9   \n",
       "2         36.2          12.5         4.57        7.8          263  28.9  35.0   \n",
       "3         46.1          14.7         5.38        8.5          320  28.6  32.2   \n",
       "4         31.8          10.9         4.05       26.9          220  28.6  34.8   \n",
       "\n",
       "    MCV  AGE  SEX  \n",
       "0  81.7   32    0  \n",
       "1  90.4   40    1  \n",
       "2  82.6   65    0  \n",
       "3  88.8   52    1  \n",
       "4  82.3   66    0  "
      ]
     },
     "execution_count": 20,
     "metadata": {},
     "output_type": "execute_result"
    }
   ],
   "source": [
    "#x = pd.get_dummies(train_patient[num_feat][\"SEX\"]\n",
    "df = train_patient[num_feat]\n",
    "df.SEX = le.fit_transform(df.SEX)\n",
    "df.head()"
   ]
  },
  {
   "cell_type": "code",
   "execution_count": 21,
   "id": "81f8f448",
   "metadata": {
    "scrolled": true
   },
   "outputs": [
    {
     "name": "stderr",
     "output_type": "stream",
     "text": [
      "C:\\Users\\DELL\\anaconda3\\lib\\site-packages\\pandas\\core\\generic.py:5494: SettingWithCopyWarning: \n",
      "A value is trying to be set on a copy of a slice from a DataFrame.\n",
      "Try using .loc[row_indexer,col_indexer] = value instead\n",
      "\n",
      "See the caveats in the documentation: https://pandas.pydata.org/pandas-docs/stable/user_guide/indexing.html#returning-a-view-versus-a-copy\n",
      "  self[name] = value\n"
     ]
    },
    {
     "data": {
      "text/html": [
       "<div>\n",
       "<style scoped>\n",
       "    .dataframe tbody tr th:only-of-type {\n",
       "        vertical-align: middle;\n",
       "    }\n",
       "\n",
       "    .dataframe tbody tr th {\n",
       "        vertical-align: top;\n",
       "    }\n",
       "\n",
       "    .dataframe thead th {\n",
       "        text-align: right;\n",
       "    }\n",
       "</style>\n",
       "<table border=\"1\" class=\"dataframe\">\n",
       "  <thead>\n",
       "    <tr style=\"text-align: right;\">\n",
       "      <th></th>\n",
       "      <th>HAEMATOCRIT</th>\n",
       "      <th>HAEMOGLOBINS</th>\n",
       "      <th>ERYTHROCYTE</th>\n",
       "      <th>LEUCOCYTE</th>\n",
       "      <th>THROMBOCYTE</th>\n",
       "      <th>MCH</th>\n",
       "      <th>MCHC</th>\n",
       "      <th>MCV</th>\n",
       "      <th>AGE</th>\n",
       "      <th>SEX</th>\n",
       "    </tr>\n",
       "  </thead>\n",
       "  <tbody>\n",
       "    <tr>\n",
       "      <th>0</th>\n",
       "      <td>33.0</td>\n",
       "      <td>11.1</td>\n",
       "      <td>4.15</td>\n",
       "      <td>11.1</td>\n",
       "      <td>329</td>\n",
       "      <td>28.4</td>\n",
       "      <td>34.1</td>\n",
       "      <td>83.2</td>\n",
       "      <td>89</td>\n",
       "      <td>0</td>\n",
       "    </tr>\n",
       "    <tr>\n",
       "      <th>1</th>\n",
       "      <td>34.0</td>\n",
       "      <td>11.1</td>\n",
       "      <td>4.23</td>\n",
       "      <td>9.7</td>\n",
       "      <td>120</td>\n",
       "      <td>27.9</td>\n",
       "      <td>33.1</td>\n",
       "      <td>84.1</td>\n",
       "      <td>47</td>\n",
       "      <td>0</td>\n",
       "    </tr>\n",
       "    <tr>\n",
       "      <th>2</th>\n",
       "      <td>42.4</td>\n",
       "      <td>14.1</td>\n",
       "      <td>5.71</td>\n",
       "      <td>4.3</td>\n",
       "      <td>239</td>\n",
       "      <td>25.8</td>\n",
       "      <td>33.6</td>\n",
       "      <td>76.7</td>\n",
       "      <td>3</td>\n",
       "      <td>1</td>\n",
       "    </tr>\n",
       "    <tr>\n",
       "      <th>3</th>\n",
       "      <td>40.3</td>\n",
       "      <td>13.4</td>\n",
       "      <td>5.19</td>\n",
       "      <td>4.7</td>\n",
       "      <td>208</td>\n",
       "      <td>27.1</td>\n",
       "      <td>33.7</td>\n",
       "      <td>80.5</td>\n",
       "      <td>25</td>\n",
       "      <td>0</td>\n",
       "    </tr>\n",
       "    <tr>\n",
       "      <th>4</th>\n",
       "      <td>33.3</td>\n",
       "      <td>11.4</td>\n",
       "      <td>4.28</td>\n",
       "      <td>7.5</td>\n",
       "      <td>206</td>\n",
       "      <td>28.3</td>\n",
       "      <td>34.7</td>\n",
       "      <td>81.3</td>\n",
       "      <td>25</td>\n",
       "      <td>0</td>\n",
       "    </tr>\n",
       "  </tbody>\n",
       "</table>\n",
       "</div>"
      ],
      "text/plain": [
       "   HAEMATOCRIT  HAEMOGLOBINS  ERYTHROCYTE  LEUCOCYTE  THROMBOCYTE   MCH  MCHC  \\\n",
       "0         33.0          11.1         4.15       11.1          329  28.4  34.1   \n",
       "1         34.0          11.1         4.23        9.7          120  27.9  33.1   \n",
       "2         42.4          14.1         5.71        4.3          239  25.8  33.6   \n",
       "3         40.3          13.4         5.19        4.7          208  27.1  33.7   \n",
       "4         33.3          11.4         4.28        7.5          206  28.3  34.7   \n",
       "\n",
       "    MCV  AGE  SEX  \n",
       "0  83.2   89    0  \n",
       "1  84.1   47    0  \n",
       "2  76.7    3    1  \n",
       "3  80.5   25    0  \n",
       "4  81.3   25    0  "
      ]
     },
     "execution_count": 21,
     "metadata": {},
     "output_type": "execute_result"
    }
   ],
   "source": [
    "dfle = test_patient[num_feat]\n",
    "dfle.SEX = le.fit_transform(dfle.SEX, )\n",
    "dfle.head()"
   ]
  },
  {
   "cell_type": "code",
   "execution_count": 22,
   "id": "c16b95d2",
   "metadata": {},
   "outputs": [
    {
     "data": {
      "text/html": [
       "<div>\n",
       "<style scoped>\n",
       "    .dataframe tbody tr th:only-of-type {\n",
       "        vertical-align: middle;\n",
       "    }\n",
       "\n",
       "    .dataframe tbody tr th {\n",
       "        vertical-align: top;\n",
       "    }\n",
       "\n",
       "    .dataframe thead th {\n",
       "        text-align: right;\n",
       "    }\n",
       "</style>\n",
       "<table border=\"1\" class=\"dataframe\">\n",
       "  <thead>\n",
       "    <tr style=\"text-align: right;\">\n",
       "      <th></th>\n",
       "      <th>HAEMATOCRIT</th>\n",
       "      <th>HAEMOGLOBINS</th>\n",
       "      <th>ERYTHROCYTE</th>\n",
       "      <th>LEUCOCYTE</th>\n",
       "      <th>THROMBOCYTE</th>\n",
       "      <th>MCH</th>\n",
       "      <th>MCHC</th>\n",
       "      <th>MCV</th>\n",
       "      <th>AGE</th>\n",
       "      <th>SEX</th>\n",
       "    </tr>\n",
       "  </thead>\n",
       "  <tbody>\n",
       "    <tr>\n",
       "      <th>0</th>\n",
       "      <td>0.859740</td>\n",
       "      <td>0.884487</td>\n",
       "      <td>0.969308</td>\n",
       "      <td>-1.145159</td>\n",
       "      <td>-0.204812</td>\n",
       "      <td>-0.270204</td>\n",
       "      <td>0.201741</td>\n",
       "      <td>-0.416803</td>\n",
       "      <td>-0.674221</td>\n",
       "      <td>-1.048452</td>\n",
       "    </tr>\n",
       "    <tr>\n",
       "      <th>1</th>\n",
       "      <td>0.975071</td>\n",
       "      <td>0.836973</td>\n",
       "      <td>0.426484</td>\n",
       "      <td>-0.294476</td>\n",
       "      <td>-0.048949</td>\n",
       "      <td>0.557415</td>\n",
       "      <td>-0.368527</td>\n",
       "      <td>0.860011</td>\n",
       "      <td>-0.305237</td>\n",
       "      <td>0.953787</td>\n",
       "    </tr>\n",
       "    <tr>\n",
       "      <th>2</th>\n",
       "      <td>-0.359484</td>\n",
       "      <td>-0.065793</td>\n",
       "      <td>-0.229956</td>\n",
       "      <td>-0.195559</td>\n",
       "      <td>0.020324</td>\n",
       "      <td>0.256463</td>\n",
       "      <td>1.342278</td>\n",
       "      <td>-0.284719</td>\n",
       "      <td>0.847840</td>\n",
       "      <td>-1.048452</td>\n",
       "    </tr>\n",
       "    <tr>\n",
       "      <th>3</th>\n",
       "      <td>1.271639</td>\n",
       "      <td>0.979515</td>\n",
       "      <td>0.792575</td>\n",
       "      <td>-0.057076</td>\n",
       "      <td>0.513893</td>\n",
       "      <td>0.143605</td>\n",
       "      <td>-0.938796</td>\n",
       "      <td>0.625195</td>\n",
       "      <td>0.248240</td>\n",
       "      <td>0.953787</td>\n",
       "    </tr>\n",
       "    <tr>\n",
       "      <th>4</th>\n",
       "      <td>-1.084428</td>\n",
       "      <td>-0.826018</td>\n",
       "      <td>-0.886395</td>\n",
       "      <td>3.583056</td>\n",
       "      <td>-0.352017</td>\n",
       "      <td>0.143605</td>\n",
       "      <td>1.179345</td>\n",
       "      <td>-0.328747</td>\n",
       "      <td>0.893963</td>\n",
       "      <td>-1.048452</td>\n",
       "    </tr>\n",
       "  </tbody>\n",
       "</table>\n",
       "</div>"
      ],
      "text/plain": [
       "   HAEMATOCRIT  HAEMOGLOBINS  ERYTHROCYTE  LEUCOCYTE  THROMBOCYTE       MCH  \\\n",
       "0     0.859740      0.884487     0.969308  -1.145159    -0.204812 -0.270204   \n",
       "1     0.975071      0.836973     0.426484  -0.294476    -0.048949  0.557415   \n",
       "2    -0.359484     -0.065793    -0.229956  -0.195559     0.020324  0.256463   \n",
       "3     1.271639      0.979515     0.792575  -0.057076     0.513893  0.143605   \n",
       "4    -1.084428     -0.826018    -0.886395   3.583056    -0.352017  0.143605   \n",
       "\n",
       "       MCHC       MCV       AGE       SEX  \n",
       "0  0.201741 -0.416803 -0.674221 -1.048452  \n",
       "1 -0.368527  0.860011 -0.305237  0.953787  \n",
       "2  1.342278 -0.284719  0.847840 -1.048452  \n",
       "3 -0.938796  0.625195  0.248240  0.953787  \n",
       "4  1.179345 -0.328747  0.893963 -1.048452  "
      ]
     },
     "execution_count": 22,
     "metadata": {},
     "output_type": "execute_result"
    }
   ],
   "source": [
    "scaler = StandardScaler()\n",
    "cols = num_feat\n",
    "X = scaler.fit_transform(df)\n",
    "testing = scaler.transform(dfle)\n",
    "X = pd.DataFrame(data = X, columns = cols)\n",
    "testing = pd.DataFrame(data = dfle, columns = cols)\n",
    "X.head()"
   ]
  },
  {
   "cell_type": "code",
   "execution_count": 23,
   "id": "0a034457",
   "metadata": {},
   "outputs": [],
   "source": [
    "#training and testing the data model\n",
    "\n",
    "X_train, X_test, y_train, y_test = train_test_split(X, train_patient.SOURCE, test_size = 0.25, random_state = 20)"
   ]
  },
  {
   "cell_type": "code",
   "execution_count": 50,
   "id": "204f400b",
   "metadata": {},
   "outputs": [
    {
     "data": {
      "text/plain": [
       "GaussianNB()"
      ]
     },
     "execution_count": 50,
     "metadata": {},
     "output_type": "execute_result"
    }
   ],
   "source": [
    "from sklearn.linear_model import Ridge\n",
    "\n",
    "NBmodel = GaussianNB()\n",
    "\n",
    "NBmodel.fit(X_train, y_train)"
   ]
  },
  {
   "cell_type": "code",
   "execution_count": 51,
   "id": "f27a73db",
   "metadata": {},
   "outputs": [],
   "source": [
    "pred = NBmodel.predict(X_test)\n",
    "pred2 = NBmodel.predict(X_train)"
   ]
  },
  {
   "cell_type": "code",
   "execution_count": 52,
   "id": "a08bf0a2",
   "metadata": {},
   "outputs": [],
   "source": [
    "train_metrics = metrics.f1_score(y_train, pred2)\n",
    "test_metrics = metrics.f1_score(y_test, pred)"
   ]
  },
  {
   "cell_type": "code",
   "execution_count": 53,
   "id": "fe94e4b5",
   "metadata": {},
   "outputs": [
    {
     "name": "stdout",
     "output_type": "stream",
     "text": [
      "The f1 score for the train patient is  0.5598548972188634\n",
      "The f1 score for the test patient is  0.6217616580310881\n"
     ]
    }
   ],
   "source": [
    "print(\"The f1 score for the train patient is \", train_metrics)\n",
    "print(\"The f1 score for the test patient is \", test_metrics)"
   ]
  },
  {
   "cell_type": "code",
   "execution_count": 54,
   "id": "44088c9d",
   "metadata": {},
   "outputs": [
    {
     "data": {
      "text/html": [
       "<div>\n",
       "<style scoped>\n",
       "    .dataframe tbody tr th:only-of-type {\n",
       "        vertical-align: middle;\n",
       "    }\n",
       "\n",
       "    .dataframe tbody tr th {\n",
       "        vertical-align: top;\n",
       "    }\n",
       "\n",
       "    .dataframe thead th {\n",
       "        text-align: right;\n",
       "    }\n",
       "</style>\n",
       "<table border=\"1\" class=\"dataframe\">\n",
       "  <thead>\n",
       "    <tr style=\"text-align: right;\">\n",
       "      <th></th>\n",
       "      <th>patient_id_</th>\n",
       "      <th>SOURCE</th>\n",
       "    </tr>\n",
       "  </thead>\n",
       "  <tbody>\n",
       "    <tr>\n",
       "      <th>0</th>\n",
       "      <td>patient_id_4373</td>\n",
       "      <td>1</td>\n",
       "    </tr>\n",
       "    <tr>\n",
       "      <th>1</th>\n",
       "      <td>patient_id_2204</td>\n",
       "      <td>1</td>\n",
       "    </tr>\n",
       "    <tr>\n",
       "      <th>2</th>\n",
       "      <td>patient_id_93</td>\n",
       "      <td>1</td>\n",
       "    </tr>\n",
       "    <tr>\n",
       "      <th>3</th>\n",
       "      <td>patient_id_798</td>\n",
       "      <td>1</td>\n",
       "    </tr>\n",
       "    <tr>\n",
       "      <th>4</th>\n",
       "      <td>patient_id_789</td>\n",
       "      <td>1</td>\n",
       "    </tr>\n",
       "  </tbody>\n",
       "</table>\n",
       "</div>"
      ],
      "text/plain": [
       "       patient_id_  SOURCE\n",
       "0  patient_id_4373       1\n",
       "1  patient_id_2204       1\n",
       "2    patient_id_93       1\n",
       "3   patient_id_798       1\n",
       "4   patient_id_789       1"
      ]
     },
     "execution_count": 54,
     "metadata": {},
     "output_type": "execute_result"
    }
   ],
   "source": [
    "sample_patient.head()"
   ]
  },
  {
   "cell_type": "code",
   "execution_count": 55,
   "id": "b29b9e39",
   "metadata": {},
   "outputs": [],
   "source": [
    "submission_file = sample_patient.copy()"
   ]
  },
  {
   "cell_type": "code",
   "execution_count": 56,
   "id": "9f98c8c7",
   "metadata": {},
   "outputs": [],
   "source": [
    "submission_file.SOURCE = NBmodel.predict(testing)"
   ]
  },
  {
   "cell_type": "code",
   "execution_count": 57,
   "id": "1813d713",
   "metadata": {},
   "outputs": [
    {
     "data": {
      "text/html": [
       "<div>\n",
       "<style scoped>\n",
       "    .dataframe tbody tr th:only-of-type {\n",
       "        vertical-align: middle;\n",
       "    }\n",
       "\n",
       "    .dataframe tbody tr th {\n",
       "        vertical-align: top;\n",
       "    }\n",
       "\n",
       "    .dataframe thead th {\n",
       "        text-align: right;\n",
       "    }\n",
       "</style>\n",
       "<table border=\"1\" class=\"dataframe\">\n",
       "  <thead>\n",
       "    <tr style=\"text-align: right;\">\n",
       "      <th></th>\n",
       "      <th>patient_id_</th>\n",
       "      <th>SOURCE</th>\n",
       "    </tr>\n",
       "  </thead>\n",
       "  <tbody>\n",
       "    <tr>\n",
       "      <th>0</th>\n",
       "      <td>patient_id_4373</td>\n",
       "      <td>1</td>\n",
       "    </tr>\n",
       "    <tr>\n",
       "      <th>1</th>\n",
       "      <td>patient_id_2204</td>\n",
       "      <td>1</td>\n",
       "    </tr>\n",
       "    <tr>\n",
       "      <th>2</th>\n",
       "      <td>patient_id_93</td>\n",
       "      <td>1</td>\n",
       "    </tr>\n",
       "    <tr>\n",
       "      <th>3</th>\n",
       "      <td>patient_id_798</td>\n",
       "      <td>1</td>\n",
       "    </tr>\n",
       "    <tr>\n",
       "      <th>4</th>\n",
       "      <td>patient_id_789</td>\n",
       "      <td>1</td>\n",
       "    </tr>\n",
       "  </tbody>\n",
       "</table>\n",
       "</div>"
      ],
      "text/plain": [
       "       patient_id_  SOURCE\n",
       "0  patient_id_4373       1\n",
       "1  patient_id_2204       1\n",
       "2    patient_id_93       1\n",
       "3   patient_id_798       1\n",
       "4   patient_id_789       1"
      ]
     },
     "execution_count": 57,
     "metadata": {},
     "output_type": "execute_result"
    }
   ],
   "source": [
    "submission_file.head()"
   ]
  },
  {
   "cell_type": "code",
   "execution_count": 58,
   "id": "a32d5b8a",
   "metadata": {},
   "outputs": [],
   "source": [
    "submission_file.to_csv('kaggle_submission3.csv', index=False)"
   ]
  },
  {
   "cell_type": "code",
   "execution_count": 81,
   "id": "4523b300",
   "metadata": {},
   "outputs": [
    {
     "name": "stderr",
     "output_type": "stream",
     "text": [
      "C:\\Users\\DELL\\anaconda3\\lib\\site-packages\\sklearn\\svm\\_base.py:985: ConvergenceWarning: Liblinear failed to converge, increase the number of iterations.\n",
      "  warnings.warn(\"Liblinear failed to converge, increase \"\n"
     ]
    },
    {
     "data": {
      "text/plain": [
       "LinearSVC()"
      ]
     },
     "execution_count": 81,
     "metadata": {},
     "output_type": "execute_result"
    }
   ],
   "source": [
    "from sklearn.svm import LinearSVC\n",
    "XVmodel = LinearSVC()\n",
    "\n",
    "XVmodel.fit(X_train, y_train)"
   ]
  },
  {
   "cell_type": "code",
   "execution_count": 82,
   "id": "8f4ed137",
   "metadata": {},
   "outputs": [],
   "source": [
    "pred = XVmodel.predict(X_test)\n",
    "pred2 = XVmodel.predict(X_train)"
   ]
  },
  {
   "cell_type": "code",
   "execution_count": 83,
   "id": "65f2079d",
   "metadata": {},
   "outputs": [],
   "source": [
    "train_metrics = metrics.f1_score(y_train, pred2)\n",
    "test_metrics = metrics.f1_score(y_test, pred)"
   ]
  },
  {
   "cell_type": "code",
   "execution_count": 84,
   "id": "04da6197",
   "metadata": {},
   "outputs": [
    {
     "name": "stdout",
     "output_type": "stream",
     "text": [
      "The f1 score for the train patient is  0.5861411315956769\n",
      "The f1 score for the test patient is  0.6062846580406654\n"
     ]
    }
   ],
   "source": [
    "print(\"The f1 score for the train patient is \", train_metrics)\n",
    "print(\"The f1 score for the test patient is \", test_metrics)"
   ]
  },
  {
   "cell_type": "code",
   "execution_count": 85,
   "id": "f8c2c265",
   "metadata": {},
   "outputs": [
    {
     "data": {
      "text/html": [
       "<div>\n",
       "<style scoped>\n",
       "    .dataframe tbody tr th:only-of-type {\n",
       "        vertical-align: middle;\n",
       "    }\n",
       "\n",
       "    .dataframe tbody tr th {\n",
       "        vertical-align: top;\n",
       "    }\n",
       "\n",
       "    .dataframe thead th {\n",
       "        text-align: right;\n",
       "    }\n",
       "</style>\n",
       "<table border=\"1\" class=\"dataframe\">\n",
       "  <thead>\n",
       "    <tr style=\"text-align: right;\">\n",
       "      <th></th>\n",
       "      <th>patient_id_</th>\n",
       "      <th>SOURCE</th>\n",
       "    </tr>\n",
       "  </thead>\n",
       "  <tbody>\n",
       "    <tr>\n",
       "      <th>0</th>\n",
       "      <td>patient_id_4373</td>\n",
       "      <td>1</td>\n",
       "    </tr>\n",
       "    <tr>\n",
       "      <th>1</th>\n",
       "      <td>patient_id_2204</td>\n",
       "      <td>1</td>\n",
       "    </tr>\n",
       "    <tr>\n",
       "      <th>2</th>\n",
       "      <td>patient_id_93</td>\n",
       "      <td>1</td>\n",
       "    </tr>\n",
       "    <tr>\n",
       "      <th>3</th>\n",
       "      <td>patient_id_798</td>\n",
       "      <td>1</td>\n",
       "    </tr>\n",
       "    <tr>\n",
       "      <th>4</th>\n",
       "      <td>patient_id_789</td>\n",
       "      <td>1</td>\n",
       "    </tr>\n",
       "  </tbody>\n",
       "</table>\n",
       "</div>"
      ],
      "text/plain": [
       "       patient_id_  SOURCE\n",
       "0  patient_id_4373       1\n",
       "1  patient_id_2204       1\n",
       "2    patient_id_93       1\n",
       "3   patient_id_798       1\n",
       "4   patient_id_789       1"
      ]
     },
     "execution_count": 85,
     "metadata": {},
     "output_type": "execute_result"
    }
   ],
   "source": [
    "sample_patient.head()"
   ]
  },
  {
   "cell_type": "code",
   "execution_count": 86,
   "id": "654b5091",
   "metadata": {},
   "outputs": [],
   "source": [
    "submission_file = sample_patient.copy()"
   ]
  },
  {
   "cell_type": "code",
   "execution_count": 87,
   "id": "17ea17af",
   "metadata": {},
   "outputs": [],
   "source": [
    "submission_file.SOURCE = XVmodel.predict(testing)"
   ]
  },
  {
   "cell_type": "code",
   "execution_count": 90,
   "id": "c48294c7",
   "metadata": {},
   "outputs": [
    {
     "data": {
      "text/html": [
       "<div>\n",
       "<style scoped>\n",
       "    .dataframe tbody tr th:only-of-type {\n",
       "        vertical-align: middle;\n",
       "    }\n",
       "\n",
       "    .dataframe tbody tr th {\n",
       "        vertical-align: top;\n",
       "    }\n",
       "\n",
       "    .dataframe thead th {\n",
       "        text-align: right;\n",
       "    }\n",
       "</style>\n",
       "<table border=\"1\" class=\"dataframe\">\n",
       "  <thead>\n",
       "    <tr style=\"text-align: right;\">\n",
       "      <th></th>\n",
       "      <th>patient_id_</th>\n",
       "      <th>SOURCE</th>\n",
       "    </tr>\n",
       "  </thead>\n",
       "  <tbody>\n",
       "    <tr>\n",
       "      <th>0</th>\n",
       "      <td>patient_id_4373</td>\n",
       "      <td>0</td>\n",
       "    </tr>\n",
       "    <tr>\n",
       "      <th>1</th>\n",
       "      <td>patient_id_2204</td>\n",
       "      <td>0</td>\n",
       "    </tr>\n",
       "    <tr>\n",
       "      <th>2</th>\n",
       "      <td>patient_id_93</td>\n",
       "      <td>0</td>\n",
       "    </tr>\n",
       "    <tr>\n",
       "      <th>3</th>\n",
       "      <td>patient_id_798</td>\n",
       "      <td>0</td>\n",
       "    </tr>\n",
       "    <tr>\n",
       "      <th>4</th>\n",
       "      <td>patient_id_789</td>\n",
       "      <td>0</td>\n",
       "    </tr>\n",
       "  </tbody>\n",
       "</table>\n",
       "</div>"
      ],
      "text/plain": [
       "       patient_id_  SOURCE\n",
       "0  patient_id_4373       0\n",
       "1  patient_id_2204       0\n",
       "2    patient_id_93       0\n",
       "3   patient_id_798       0\n",
       "4   patient_id_789       0"
      ]
     },
     "execution_count": 90,
     "metadata": {},
     "output_type": "execute_result"
    }
   ],
   "source": [
    "submission_file.head()"
   ]
  },
  {
   "cell_type": "code",
   "execution_count": 91,
   "id": "c4b20407",
   "metadata": {},
   "outputs": [],
   "source": [
    "submission_file.to_csv('kaggle_submission4.csv', index=False)"
   ]
  },
  {
   "cell_type": "code",
   "execution_count": 105,
   "id": "bbf3e608",
   "metadata": {},
   "outputs": [
    {
     "data": {
      "text/plain": [
       "Perceptron()"
      ]
     },
     "execution_count": 105,
     "metadata": {},
     "output_type": "execute_result"
    }
   ],
   "source": [
    "#all classifier\n",
    "# RidgeClassifier, LogisticRegressionCV, LogisticRegression, PassiveAggressiveClassifier, SVC, Perceptron, RidgeClassifierCV\n",
    "# KNeighborsClassifier\n",
    "from sklearn.linear_model import Perceptron\n",
    "XDGmodel = Perceptron()\n",
    "\n",
    "XDGmodel.fit(X_train, y_train)"
   ]
  },
  {
   "cell_type": "code",
   "execution_count": 106,
   "id": "7b9149f7",
   "metadata": {},
   "outputs": [],
   "source": [
    "pred = XDGmodel.predict(X_test)\n",
    "pred2 = XDGmodel.predict(X_train)"
   ]
  },
  {
   "cell_type": "code",
   "execution_count": 107,
   "id": "5a4b5653",
   "metadata": {},
   "outputs": [],
   "source": [
    "train_metrics = metrics.f1_score(y_train, pred2)\n",
    "test_metrics = metrics.f1_score(y_test, pred)"
   ]
  },
  {
   "cell_type": "code",
   "execution_count": 108,
   "id": "67d9ad85",
   "metadata": {},
   "outputs": [
    {
     "name": "stdout",
     "output_type": "stream",
     "text": [
      "The f1 score for the train patient is  0.6327054794520548\n",
      "The f1 score for the test patient is  0.6432160804020101\n"
     ]
    }
   ],
   "source": [
    "print(\"The f1 score for the train patient is \", train_metrics)\n",
    "print(\"The f1 score for the test patient is \", test_metrics)"
   ]
  },
  {
   "cell_type": "code",
   "execution_count": 109,
   "id": "fe9995e4",
   "metadata": {},
   "outputs": [
    {
     "data": {
      "text/html": [
       "<div>\n",
       "<style scoped>\n",
       "    .dataframe tbody tr th:only-of-type {\n",
       "        vertical-align: middle;\n",
       "    }\n",
       "\n",
       "    .dataframe tbody tr th {\n",
       "        vertical-align: top;\n",
       "    }\n",
       "\n",
       "    .dataframe thead th {\n",
       "        text-align: right;\n",
       "    }\n",
       "</style>\n",
       "<table border=\"1\" class=\"dataframe\">\n",
       "  <thead>\n",
       "    <tr style=\"text-align: right;\">\n",
       "      <th></th>\n",
       "      <th>patient_id_</th>\n",
       "      <th>SOURCE</th>\n",
       "    </tr>\n",
       "  </thead>\n",
       "  <tbody>\n",
       "    <tr>\n",
       "      <th>0</th>\n",
       "      <td>patient_id_4373</td>\n",
       "      <td>1</td>\n",
       "    </tr>\n",
       "    <tr>\n",
       "      <th>1</th>\n",
       "      <td>patient_id_2204</td>\n",
       "      <td>1</td>\n",
       "    </tr>\n",
       "    <tr>\n",
       "      <th>2</th>\n",
       "      <td>patient_id_93</td>\n",
       "      <td>1</td>\n",
       "    </tr>\n",
       "    <tr>\n",
       "      <th>3</th>\n",
       "      <td>patient_id_798</td>\n",
       "      <td>1</td>\n",
       "    </tr>\n",
       "    <tr>\n",
       "      <th>4</th>\n",
       "      <td>patient_id_789</td>\n",
       "      <td>1</td>\n",
       "    </tr>\n",
       "  </tbody>\n",
       "</table>\n",
       "</div>"
      ],
      "text/plain": [
       "       patient_id_  SOURCE\n",
       "0  patient_id_4373       1\n",
       "1  patient_id_2204       1\n",
       "2    patient_id_93       1\n",
       "3   patient_id_798       1\n",
       "4   patient_id_789       1"
      ]
     },
     "execution_count": 109,
     "metadata": {},
     "output_type": "execute_result"
    }
   ],
   "source": [
    "sample_patient.head()"
   ]
  },
  {
   "cell_type": "code",
   "execution_count": 110,
   "id": "d73e6e9e",
   "metadata": {},
   "outputs": [],
   "source": [
    "submission_file = sample_patient.copy()"
   ]
  },
  {
   "cell_type": "code",
   "execution_count": 111,
   "id": "c9dec987",
   "metadata": {},
   "outputs": [],
   "source": [
    "submission_file.SOURCE = XDGmodel.predict(testing)"
   ]
  },
  {
   "cell_type": "code",
   "execution_count": 112,
   "id": "5918bfba",
   "metadata": {},
   "outputs": [
    {
     "data": {
      "text/html": [
       "<div>\n",
       "<style scoped>\n",
       "    .dataframe tbody tr th:only-of-type {\n",
       "        vertical-align: middle;\n",
       "    }\n",
       "\n",
       "    .dataframe tbody tr th {\n",
       "        vertical-align: top;\n",
       "    }\n",
       "\n",
       "    .dataframe thead th {\n",
       "        text-align: right;\n",
       "    }\n",
       "</style>\n",
       "<table border=\"1\" class=\"dataframe\">\n",
       "  <thead>\n",
       "    <tr style=\"text-align: right;\">\n",
       "      <th></th>\n",
       "      <th>patient_id_</th>\n",
       "      <th>SOURCE</th>\n",
       "    </tr>\n",
       "  </thead>\n",
       "  <tbody>\n",
       "    <tr>\n",
       "      <th>0</th>\n",
       "      <td>patient_id_4373</td>\n",
       "      <td>0</td>\n",
       "    </tr>\n",
       "    <tr>\n",
       "      <th>1</th>\n",
       "      <td>patient_id_2204</td>\n",
       "      <td>0</td>\n",
       "    </tr>\n",
       "    <tr>\n",
       "      <th>2</th>\n",
       "      <td>patient_id_93</td>\n",
       "      <td>0</td>\n",
       "    </tr>\n",
       "    <tr>\n",
       "      <th>3</th>\n",
       "      <td>patient_id_798</td>\n",
       "      <td>0</td>\n",
       "    </tr>\n",
       "    <tr>\n",
       "      <th>4</th>\n",
       "      <td>patient_id_789</td>\n",
       "      <td>0</td>\n",
       "    </tr>\n",
       "  </tbody>\n",
       "</table>\n",
       "</div>"
      ],
      "text/plain": [
       "       patient_id_  SOURCE\n",
       "0  patient_id_4373       0\n",
       "1  patient_id_2204       0\n",
       "2    patient_id_93       0\n",
       "3   patient_id_798       0\n",
       "4   patient_id_789       0"
      ]
     },
     "execution_count": 112,
     "metadata": {},
     "output_type": "execute_result"
    }
   ],
   "source": [
    "submission_file.head()"
   ]
  },
  {
   "cell_type": "code",
   "execution_count": 114,
   "id": "a32803ec",
   "metadata": {},
   "outputs": [
    {
     "data": {
      "text/plain": [
       "0.6321243523316062"
      ]
     },
     "execution_count": 114,
     "metadata": {},
     "output_type": "execute_result"
    }
   ],
   "source": [
    "metrics.accuracy_score(y_test, pred)"
   ]
  },
  {
   "cell_type": "code",
   "execution_count": 115,
   "id": "01c4dce3",
   "metadata": {},
   "outputs": [],
   "source": [
    "submission_file.to_csv('kaggle_submission5.csv', index=False)"
   ]
  },
  {
   "cell_type": "code",
   "execution_count": 116,
   "id": "b7b63e7a",
   "metadata": {},
   "outputs": [
    {
     "data": {
      "text/plain": [
       "KNeighborsClassifier()"
      ]
     },
     "execution_count": 116,
     "metadata": {},
     "output_type": "execute_result"
    }
   ],
   "source": [
    "from sklearn.neighbors import KNeighborsClassifier\n",
    "\n",
    "KNmodel = KNeighborsClassifier()\n",
    "\n",
    "KNmodel.fit(X_train, y_train)"
   ]
  },
  {
   "cell_type": "code",
   "execution_count": 117,
   "id": "29dd2b11",
   "metadata": {},
   "outputs": [],
   "source": [
    "KNprediction = KNmodel.predict(X_test)\n",
    "KNprediction2 = KNmodel.predict(X_train)"
   ]
  },
  {
   "cell_type": "code",
   "execution_count": 118,
   "id": "15b3f8af",
   "metadata": {},
   "outputs": [],
   "source": [
    "train_metrics = metrics.f1_score(y_train, KNprediction2)\n",
    "test_metrics = metrics.f1_score(y_test, KNprediction)"
   ]
  },
  {
   "cell_type": "code",
   "execution_count": 119,
   "id": "dfee7b94",
   "metadata": {},
   "outputs": [
    {
     "name": "stdout",
     "output_type": "stream",
     "text": [
      "The f1 score for the train patient is  0.7392996108949416\n",
      "The f1 score for the test patient is  0.6731078904991948\n"
     ]
    }
   ],
   "source": [
    "print(\"The f1 score for the train patient is \", train_metrics)\n",
    "print(\"The f1 score for the test patient is \", test_metrics)"
   ]
  },
  {
   "cell_type": "code",
   "execution_count": 120,
   "id": "0067ab3d",
   "metadata": {},
   "outputs": [
    {
     "data": {
      "text/html": [
       "<div>\n",
       "<style scoped>\n",
       "    .dataframe tbody tr th:only-of-type {\n",
       "        vertical-align: middle;\n",
       "    }\n",
       "\n",
       "    .dataframe tbody tr th {\n",
       "        vertical-align: top;\n",
       "    }\n",
       "\n",
       "    .dataframe thead th {\n",
       "        text-align: right;\n",
       "    }\n",
       "</style>\n",
       "<table border=\"1\" class=\"dataframe\">\n",
       "  <thead>\n",
       "    <tr style=\"text-align: right;\">\n",
       "      <th></th>\n",
       "      <th>patient_id_</th>\n",
       "      <th>SOURCE</th>\n",
       "    </tr>\n",
       "  </thead>\n",
       "  <tbody>\n",
       "    <tr>\n",
       "      <th>0</th>\n",
       "      <td>patient_id_4373</td>\n",
       "      <td>1</td>\n",
       "    </tr>\n",
       "    <tr>\n",
       "      <th>1</th>\n",
       "      <td>patient_id_2204</td>\n",
       "      <td>1</td>\n",
       "    </tr>\n",
       "    <tr>\n",
       "      <th>2</th>\n",
       "      <td>patient_id_93</td>\n",
       "      <td>1</td>\n",
       "    </tr>\n",
       "    <tr>\n",
       "      <th>3</th>\n",
       "      <td>patient_id_798</td>\n",
       "      <td>1</td>\n",
       "    </tr>\n",
       "    <tr>\n",
       "      <th>4</th>\n",
       "      <td>patient_id_789</td>\n",
       "      <td>1</td>\n",
       "    </tr>\n",
       "  </tbody>\n",
       "</table>\n",
       "</div>"
      ],
      "text/plain": [
       "       patient_id_  SOURCE\n",
       "0  patient_id_4373       1\n",
       "1  patient_id_2204       1\n",
       "2    patient_id_93       1\n",
       "3   patient_id_798       1\n",
       "4   patient_id_789       1"
      ]
     },
     "execution_count": 120,
     "metadata": {},
     "output_type": "execute_result"
    }
   ],
   "source": [
    "sample_patient.head()"
   ]
  },
  {
   "cell_type": "code",
   "execution_count": 121,
   "id": "9145b6f7",
   "metadata": {},
   "outputs": [
    {
     "data": {
      "text/plain": [
       "0.7370466321243523"
      ]
     },
     "execution_count": 121,
     "metadata": {},
     "output_type": "execute_result"
    }
   ],
   "source": [
    "metrics.accuracy_score(y_test, KNprediction)"
   ]
  },
  {
   "cell_type": "code",
   "execution_count": 122,
   "id": "3264a7fb",
   "metadata": {},
   "outputs": [],
   "source": [
    "submission_file = sample_patient.copy()"
   ]
  },
  {
   "cell_type": "code",
   "execution_count": 123,
   "id": "24483520",
   "metadata": {},
   "outputs": [],
   "source": [
    "submission_file.SOURCE = XDGmodel.predict(testing)"
   ]
  },
  {
   "cell_type": "code",
   "execution_count": 126,
   "id": "2d2b1779",
   "metadata": {},
   "outputs": [
    {
     "data": {
      "text/html": [
       "<div>\n",
       "<style scoped>\n",
       "    .dataframe tbody tr th:only-of-type {\n",
       "        vertical-align: middle;\n",
       "    }\n",
       "\n",
       "    .dataframe tbody tr th {\n",
       "        vertical-align: top;\n",
       "    }\n",
       "\n",
       "    .dataframe thead th {\n",
       "        text-align: right;\n",
       "    }\n",
       "</style>\n",
       "<table border=\"1\" class=\"dataframe\">\n",
       "  <thead>\n",
       "    <tr style=\"text-align: right;\">\n",
       "      <th></th>\n",
       "      <th>patient_id_</th>\n",
       "      <th>SOURCE</th>\n",
       "    </tr>\n",
       "  </thead>\n",
       "  <tbody>\n",
       "    <tr>\n",
       "      <th>0</th>\n",
       "      <td>patient_id_4373</td>\n",
       "      <td>0</td>\n",
       "    </tr>\n",
       "    <tr>\n",
       "      <th>1</th>\n",
       "      <td>patient_id_2204</td>\n",
       "      <td>0</td>\n",
       "    </tr>\n",
       "    <tr>\n",
       "      <th>2</th>\n",
       "      <td>patient_id_93</td>\n",
       "      <td>0</td>\n",
       "    </tr>\n",
       "    <tr>\n",
       "      <th>3</th>\n",
       "      <td>patient_id_798</td>\n",
       "      <td>0</td>\n",
       "    </tr>\n",
       "    <tr>\n",
       "      <th>4</th>\n",
       "      <td>patient_id_789</td>\n",
       "      <td>0</td>\n",
       "    </tr>\n",
       "  </tbody>\n",
       "</table>\n",
       "</div>"
      ],
      "text/plain": [
       "       patient_id_  SOURCE\n",
       "0  patient_id_4373       0\n",
       "1  patient_id_2204       0\n",
       "2    patient_id_93       0\n",
       "3   patient_id_798       0\n",
       "4   patient_id_789       0"
      ]
     },
     "execution_count": 126,
     "metadata": {},
     "output_type": "execute_result"
    }
   ],
   "source": [
    "submission_file.head()"
   ]
  },
  {
   "cell_type": "code",
   "execution_count": 127,
   "id": "9830c332",
   "metadata": {},
   "outputs": [],
   "source": [
    "submission_file.to_csv('kaggle_submission6.csv', index=False)"
   ]
  }
 ],
 "metadata": {
  "kernelspec": {
   "display_name": "Python 3",
   "language": "python",
   "name": "python3"
  },
  "language_info": {
   "codemirror_mode": {
    "name": "ipython",
    "version": 3
   },
   "file_extension": ".py",
   "mimetype": "text/x-python",
   "name": "python",
   "nbconvert_exporter": "python",
   "pygments_lexer": "ipython3",
   "version": "3.8.8"
  }
 },
 "nbformat": 4,
 "nbformat_minor": 5
}
