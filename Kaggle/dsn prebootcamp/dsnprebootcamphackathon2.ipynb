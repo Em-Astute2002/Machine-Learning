{
 "cells": [
  {
   "cell_type": "code",
   "execution_count": 1,
   "id": "385e2745",
   "metadata": {},
   "outputs": [],
   "source": [
    "import pandas as pd\n",
    "import numpy as np\n",
    "import matplotlib.pyplot as plt\n",
    "import seaborn as sns"
   ]
  },
  {
   "cell_type": "code",
   "execution_count": 2,
   "id": "241df0e1",
   "metadata": {},
   "outputs": [],
   "source": [
    "#reading the datasets\n",
    "train_insurance = pd.read_csv(\"train.csv\")\n",
    "test_insurance = pd.read_csv(\"test.csv\")\n",
    "sample_insurance = pd.read_csv(\"sample_submission.csv\")"
   ]
  },
  {
   "cell_type": "code",
   "execution_count": 3,
   "id": "9c0de7d2",
   "metadata": {},
   "outputs": [
    {
     "data": {
      "text/plain": [
       "Index(['Customer_ID', 'Sex', 'Earnings', 'Region_Code', 'Marital Status',\n",
       "       'State_of_Origin', 'Customer_Worth', 'Customer_Reply', 'Plan',\n",
       "       'Certification', 'Effective To Date', 'Status_of_Employment',\n",
       "       'Premium_Auto_per_Month', 'Total Claim Amount', 'Vehicle Class',\n",
       "       'Vehicle Size', 'Months Since Last Claim',\n",
       "       'Months Since Policy Inception', 'Counts_of_Open_Complaints',\n",
       "       'No_Of_POlicy', 'kind_of_policy', 'Active_Policy', 'Sales Channel',\n",
       "       'Best_Offer'],\n",
       "      dtype='object')"
      ]
     },
     "execution_count": 3,
     "metadata": {},
     "output_type": "execute_result"
    }
   ],
   "source": [
    "train_insurance.columns"
   ]
  },
  {
   "cell_type": "code",
   "execution_count": 4,
   "id": "28ef48e3",
   "metadata": {},
   "outputs": [
    {
     "data": {
      "text/plain": [
       "24"
      ]
     },
     "execution_count": 4,
     "metadata": {},
     "output_type": "execute_result"
    }
   ],
   "source": [
    "len(train_insurance.columns)"
   ]
  },
  {
   "cell_type": "code",
   "execution_count": 96,
   "id": "2285ae6b",
   "metadata": {},
   "outputs": [
    {
     "data": {
      "text/html": [
       "<div>\n",
       "<style scoped>\n",
       "    .dataframe tbody tr th:only-of-type {\n",
       "        vertical-align: middle;\n",
       "    }\n",
       "\n",
       "    .dataframe tbody tr th {\n",
       "        vertical-align: top;\n",
       "    }\n",
       "\n",
       "    .dataframe thead th {\n",
       "        text-align: right;\n",
       "    }\n",
       "</style>\n",
       "<table border=\"1\" class=\"dataframe\">\n",
       "  <thead>\n",
       "    <tr style=\"text-align: right;\">\n",
       "      <th></th>\n",
       "      <th>Customer_ID</th>\n",
       "      <th>Sex</th>\n",
       "      <th>Earnings</th>\n",
       "      <th>Region_Code</th>\n",
       "      <th>Marital Status</th>\n",
       "      <th>State_of_Origin</th>\n",
       "      <th>Customer_Worth</th>\n",
       "      <th>Customer_Reply</th>\n",
       "      <th>Plan</th>\n",
       "      <th>Certification</th>\n",
       "      <th>...</th>\n",
       "      <th>Vehicle Class</th>\n",
       "      <th>Vehicle Size</th>\n",
       "      <th>Months Since Last Claim</th>\n",
       "      <th>Months Since Policy Inception</th>\n",
       "      <th>Counts_of_Open_Complaints</th>\n",
       "      <th>No_Of_POlicy</th>\n",
       "      <th>kind_of_policy</th>\n",
       "      <th>Active_Policy</th>\n",
       "      <th>Sales Channel</th>\n",
       "      <th>Best_Offer</th>\n",
       "    </tr>\n",
       "  </thead>\n",
       "  <tbody>\n",
       "    <tr>\n",
       "      <th>0</th>\n",
       "      <td>Customer_434</td>\n",
       "      <td>Female</td>\n",
       "      <td>97134</td>\n",
       "      <td>Suburban</td>\n",
       "      <td>Single</td>\n",
       "      <td>Kano</td>\n",
       "      <td>5017.009472</td>\n",
       "      <td>Interested</td>\n",
       "      <td>Silver</td>\n",
       "      <td>First_Degree</td>\n",
       "      <td>...</td>\n",
       "      <td>SUV</td>\n",
       "      <td>Medsize</td>\n",
       "      <td>12</td>\n",
       "      <td>15</td>\n",
       "      <td>0</td>\n",
       "      <td>1</td>\n",
       "      <td>Corporate</td>\n",
       "      <td>C_L2</td>\n",
       "      <td>Agent</td>\n",
       "      <td>1</td>\n",
       "    </tr>\n",
       "    <tr>\n",
       "      <th>1</th>\n",
       "      <td>Customer_4641</td>\n",
       "      <td>Female</td>\n",
       "      <td>53754</td>\n",
       "      <td>Suburban</td>\n",
       "      <td>Married</td>\n",
       "      <td>Abuja</td>\n",
       "      <td>5151.301306</td>\n",
       "      <td>Not_interested</td>\n",
       "      <td>Silver</td>\n",
       "      <td>First_Degree</td>\n",
       "      <td>...</td>\n",
       "      <td>SUV</td>\n",
       "      <td>Small</td>\n",
       "      <td>5</td>\n",
       "      <td>2</td>\n",
       "      <td>0</td>\n",
       "      <td>1</td>\n",
       "      <td>Personal</td>\n",
       "      <td>P_L2</td>\n",
       "      <td>Agent</td>\n",
       "      <td>3</td>\n",
       "    </tr>\n",
       "    <tr>\n",
       "      <th>2</th>\n",
       "      <td>Customer_4952</td>\n",
       "      <td>Female</td>\n",
       "      <td>25804</td>\n",
       "      <td>Suburban</td>\n",
       "      <td>Divorced</td>\n",
       "      <td>Lagos</td>\n",
       "      <td>4906.894731</td>\n",
       "      <td>Interested</td>\n",
       "      <td>Silver</td>\n",
       "      <td>HND</td>\n",
       "      <td>...</td>\n",
       "      <td>Sports Car</td>\n",
       "      <td>Medsize</td>\n",
       "      <td>3</td>\n",
       "      <td>51</td>\n",
       "      <td>0</td>\n",
       "      <td>1</td>\n",
       "      <td>Personal</td>\n",
       "      <td>P_L3</td>\n",
       "      <td>Agent</td>\n",
       "      <td>0</td>\n",
       "    </tr>\n",
       "    <tr>\n",
       "      <th>3</th>\n",
       "      <td>Customer_1489</td>\n",
       "      <td>Female</td>\n",
       "      <td>0</td>\n",
       "      <td>Suburban</td>\n",
       "      <td>Single</td>\n",
       "      <td>Imo</td>\n",
       "      <td>8512.525936</td>\n",
       "      <td>Not_interested</td>\n",
       "      <td>Silver</td>\n",
       "      <td>HND</td>\n",
       "      <td>...</td>\n",
       "      <td>Sports Car</td>\n",
       "      <td>Medsize</td>\n",
       "      <td>5</td>\n",
       "      <td>94</td>\n",
       "      <td>0</td>\n",
       "      <td>8</td>\n",
       "      <td>Personal</td>\n",
       "      <td>P_L2</td>\n",
       "      <td>Branch</td>\n",
       "      <td>1</td>\n",
       "    </tr>\n",
       "    <tr>\n",
       "      <th>4</th>\n",
       "      <td>Customer_812</td>\n",
       "      <td>Male</td>\n",
       "      <td>140494</td>\n",
       "      <td>Rural</td>\n",
       "      <td>Single</td>\n",
       "      <td>Imo</td>\n",
       "      <td>3280.531880</td>\n",
       "      <td>Not_interested</td>\n",
       "      <td>Silver</td>\n",
       "      <td>PHD</td>\n",
       "      <td>...</td>\n",
       "      <td>Four-Door Car</td>\n",
       "      <td>Medsize</td>\n",
       "      <td>13</td>\n",
       "      <td>19</td>\n",
       "      <td>2</td>\n",
       "      <td>1</td>\n",
       "      <td>Personal</td>\n",
       "      <td>P_L2</td>\n",
       "      <td>Call Center</td>\n",
       "      <td>3</td>\n",
       "    </tr>\n",
       "  </tbody>\n",
       "</table>\n",
       "<p>5 rows × 24 columns</p>\n",
       "</div>"
      ],
      "text/plain": [
       "     Customer_ID     Sex  Earnings Region_Code Marital Status State_of_Origin  \\\n",
       "0   Customer_434  Female     97134    Suburban         Single            Kano   \n",
       "1  Customer_4641  Female     53754    Suburban        Married           Abuja   \n",
       "2  Customer_4952  Female     25804    Suburban       Divorced           Lagos   \n",
       "3  Customer_1489  Female         0    Suburban         Single             Imo   \n",
       "4   Customer_812    Male    140494       Rural         Single             Imo   \n",
       "\n",
       "   Customer_Worth  Customer_Reply    Plan Certification  ...  Vehicle Class  \\\n",
       "0     5017.009472      Interested  Silver  First_Degree  ...            SUV   \n",
       "1     5151.301306  Not_interested  Silver  First_Degree  ...            SUV   \n",
       "2     4906.894731      Interested  Silver           HND  ...     Sports Car   \n",
       "3     8512.525936  Not_interested  Silver           HND  ...     Sports Car   \n",
       "4     3280.531880  Not_interested  Silver           PHD  ...  Four-Door Car   \n",
       "\n",
       "  Vehicle Size  Months Since Last Claim  Months Since Policy Inception  \\\n",
       "0      Medsize                       12                             15   \n",
       "1        Small                        5                              2   \n",
       "2      Medsize                        3                             51   \n",
       "3      Medsize                        5                             94   \n",
       "4      Medsize                       13                             19   \n",
       "\n",
       "  Counts_of_Open_Complaints No_Of_POlicy  kind_of_policy  Active_Policy  \\\n",
       "0                         0            1       Corporate           C_L2   \n",
       "1                         0            1        Personal           P_L2   \n",
       "2                         0            1        Personal           P_L3   \n",
       "3                         0            8        Personal           P_L2   \n",
       "4                         2            1        Personal           P_L2   \n",
       "\n",
       "   Sales Channel  Best_Offer  \n",
       "0          Agent           1  \n",
       "1          Agent           3  \n",
       "2          Agent           0  \n",
       "3         Branch           1  \n",
       "4    Call Center           3  \n",
       "\n",
       "[5 rows x 24 columns]"
      ]
     },
     "execution_count": 96,
     "metadata": {},
     "output_type": "execute_result"
    }
   ],
   "source": [
    "train_insurance.head()"
   ]
  },
  {
   "cell_type": "code",
   "execution_count": 6,
   "id": "e8db5666",
   "metadata": {},
   "outputs": [
    {
     "name": "stdout",
     "output_type": "stream",
     "text": [
      "<class 'pandas.core.frame.DataFrame'>\n",
      "RangeIndex: 6393 entries, 0 to 6392\n",
      "Data columns (total 24 columns):\n",
      " #   Column                         Non-Null Count  Dtype  \n",
      "---  ------                         --------------  -----  \n",
      " 0   Customer_ID                    6393 non-null   object \n",
      " 1   Sex                            6393 non-null   object \n",
      " 2   Earnings                       6393 non-null   int64  \n",
      " 3   Region_Code                    6393 non-null   object \n",
      " 4   Marital Status                 6393 non-null   object \n",
      " 5   State_of_Origin                6393 non-null   object \n",
      " 6   Customer_Worth                 6393 non-null   float64\n",
      " 7   Customer_Reply                 6393 non-null   object \n",
      " 8   Plan                           6393 non-null   object \n",
      " 9   Certification                  6393 non-null   object \n",
      " 10  Effective To Date              6393 non-null   object \n",
      " 11  Status_of_Employment           6393 non-null   object \n",
      " 12  Premium_Auto_per_Month         6393 non-null   int64  \n",
      " 13  Total Claim Amount             6393 non-null   float64\n",
      " 14  Vehicle Class                  6393 non-null   object \n",
      " 15  Vehicle Size                   6393 non-null   object \n",
      " 16  Months Since Last Claim        6393 non-null   int64  \n",
      " 17  Months Since Policy Inception  6393 non-null   int64  \n",
      " 18  Counts_of_Open_Complaints      6393 non-null   int64  \n",
      " 19  No_Of_POlicy                   6393 non-null   int64  \n",
      " 20  kind_of_policy                 6393 non-null   object \n",
      " 21  Active_Policy                  6393 non-null   object \n",
      " 22  Sales Channel                  6393 non-null   object \n",
      " 23  Best_Offer                     6393 non-null   int64  \n",
      "dtypes: float64(2), int64(7), object(15)\n",
      "memory usage: 1.2+ MB\n"
     ]
    }
   ],
   "source": [
    "train_insurance.info()"
   ]
  },
  {
   "cell_type": "code",
   "execution_count": 7,
   "id": "b85abdba",
   "metadata": {},
   "outputs": [
    {
     "data": {
      "text/plain": [
       "Index(['Customer_ID', 'Sex', 'Earnings', 'Region_Code', 'Marital Status',\n",
       "       'State_of_Origin', 'Customer_Worth', 'Customer_Reply', 'Plan',\n",
       "       'Certification', 'Effective To Date', 'Status_of_Employment',\n",
       "       'Premium_Auto_per_Month', 'Total Claim Amount', 'Vehicle Class',\n",
       "       'Vehicle Size', 'Months Since Last Claim',\n",
       "       'Months Since Policy Inception', 'Counts_of_Open_Complaints',\n",
       "       'No_Of_POlicy', 'kind_of_policy', 'Active_Policy', 'Sales Channel'],\n",
       "      dtype='object')"
      ]
     },
     "execution_count": 7,
     "metadata": {},
     "output_type": "execute_result"
    }
   ],
   "source": [
    "test_insurance.columns"
   ]
  },
  {
   "cell_type": "code",
   "execution_count": 8,
   "id": "415d00e1",
   "metadata": {},
   "outputs": [
    {
     "data": {
      "text/plain": [
       "23"
      ]
     },
     "execution_count": 8,
     "metadata": {},
     "output_type": "execute_result"
    }
   ],
   "source": [
    "len(test_insurance.columns)"
   ]
  },
  {
   "cell_type": "code",
   "execution_count": 9,
   "id": "cc45ac3f",
   "metadata": {},
   "outputs": [
    {
     "data": {
      "text/html": [
       "<div>\n",
       "<style scoped>\n",
       "    .dataframe tbody tr th:only-of-type {\n",
       "        vertical-align: middle;\n",
       "    }\n",
       "\n",
       "    .dataframe tbody tr th {\n",
       "        vertical-align: top;\n",
       "    }\n",
       "\n",
       "    .dataframe thead th {\n",
       "        text-align: right;\n",
       "    }\n",
       "</style>\n",
       "<table border=\"1\" class=\"dataframe\">\n",
       "  <thead>\n",
       "    <tr style=\"text-align: right;\">\n",
       "      <th></th>\n",
       "      <th>Customer_ID</th>\n",
       "      <th>Sex</th>\n",
       "      <th>Earnings</th>\n",
       "      <th>Region_Code</th>\n",
       "      <th>Marital Status</th>\n",
       "      <th>State_of_Origin</th>\n",
       "      <th>Customer_Worth</th>\n",
       "      <th>Customer_Reply</th>\n",
       "      <th>Plan</th>\n",
       "      <th>Certification</th>\n",
       "      <th>...</th>\n",
       "      <th>Total Claim Amount</th>\n",
       "      <th>Vehicle Class</th>\n",
       "      <th>Vehicle Size</th>\n",
       "      <th>Months Since Last Claim</th>\n",
       "      <th>Months Since Policy Inception</th>\n",
       "      <th>Counts_of_Open_Complaints</th>\n",
       "      <th>No_Of_POlicy</th>\n",
       "      <th>kind_of_policy</th>\n",
       "      <th>Active_Policy</th>\n",
       "      <th>Sales Channel</th>\n",
       "    </tr>\n",
       "  </thead>\n",
       "  <tbody>\n",
       "    <tr>\n",
       "      <th>0</th>\n",
       "      <td>Customer_708</td>\n",
       "      <td>Male</td>\n",
       "      <td>149170</td>\n",
       "      <td>Rural</td>\n",
       "      <td>Married</td>\n",
       "      <td>Lagos</td>\n",
       "      <td>4224.631209</td>\n",
       "      <td>Not_interested</td>\n",
       "      <td>Bronze</td>\n",
       "      <td>O_Level</td>\n",
       "      <td>...</td>\n",
       "      <td>218.598065</td>\n",
       "      <td>SUV</td>\n",
       "      <td>Medsize</td>\n",
       "      <td>1</td>\n",
       "      <td>49</td>\n",
       "      <td>0</td>\n",
       "      <td>1</td>\n",
       "      <td>Personal</td>\n",
       "      <td>P_L3</td>\n",
       "      <td>Agent</td>\n",
       "    </tr>\n",
       "    <tr>\n",
       "      <th>1</th>\n",
       "      <td>Customer_47</td>\n",
       "      <td>Female</td>\n",
       "      <td>46436</td>\n",
       "      <td>Suburban</td>\n",
       "      <td>Single</td>\n",
       "      <td>Abuja</td>\n",
       "      <td>5516.344018</td>\n",
       "      <td>Not_interested</td>\n",
       "      <td>Bronze</td>\n",
       "      <td>O_Level</td>\n",
       "      <td>...</td>\n",
       "      <td>447.793440</td>\n",
       "      <td>Two-Door Car</td>\n",
       "      <td>Medsize</td>\n",
       "      <td>7</td>\n",
       "      <td>10</td>\n",
       "      <td>0</td>\n",
       "      <td>4</td>\n",
       "      <td>Personal</td>\n",
       "      <td>P_L2</td>\n",
       "      <td>Agent</td>\n",
       "    </tr>\n",
       "    <tr>\n",
       "      <th>2</th>\n",
       "      <td>Customer_3995</td>\n",
       "      <td>Female</td>\n",
       "      <td>189806</td>\n",
       "      <td>Suburban</td>\n",
       "      <td>Married</td>\n",
       "      <td>Abuja</td>\n",
       "      <td>3810.122147</td>\n",
       "      <td>Interested</td>\n",
       "      <td>Silver</td>\n",
       "      <td>HND</td>\n",
       "      <td>...</td>\n",
       "      <td>451.200000</td>\n",
       "      <td>Two-Door Car</td>\n",
       "      <td>Small</td>\n",
       "      <td>3</td>\n",
       "      <td>38</td>\n",
       "      <td>0</td>\n",
       "      <td>1</td>\n",
       "      <td>Personal</td>\n",
       "      <td>P_L3</td>\n",
       "      <td>Agent</td>\n",
       "    </tr>\n",
       "    <tr>\n",
       "      <th>3</th>\n",
       "      <td>Customer_1513</td>\n",
       "      <td>Female</td>\n",
       "      <td>154306</td>\n",
       "      <td>Urban</td>\n",
       "      <td>Married</td>\n",
       "      <td>Lagos</td>\n",
       "      <td>7916.823110</td>\n",
       "      <td>Not_interested</td>\n",
       "      <td>Silver</td>\n",
       "      <td>HND</td>\n",
       "      <td>...</td>\n",
       "      <td>355.641958</td>\n",
       "      <td>Four-Door Car</td>\n",
       "      <td>Medsize</td>\n",
       "      <td>3</td>\n",
       "      <td>27</td>\n",
       "      <td>2</td>\n",
       "      <td>5</td>\n",
       "      <td>Personal</td>\n",
       "      <td>P_L3</td>\n",
       "      <td>Branch</td>\n",
       "    </tr>\n",
       "    <tr>\n",
       "      <th>4</th>\n",
       "      <td>Customer_3686</td>\n",
       "      <td>Female</td>\n",
       "      <td>47538</td>\n",
       "      <td>Suburban</td>\n",
       "      <td>Divorced</td>\n",
       "      <td>Kano</td>\n",
       "      <td>7933.722181</td>\n",
       "      <td>Not_interested</td>\n",
       "      <td>Bronze</td>\n",
       "      <td>O_Level</td>\n",
       "      <td>...</td>\n",
       "      <td>470.097411</td>\n",
       "      <td>Four-Door Car</td>\n",
       "      <td>Medsize</td>\n",
       "      <td>18</td>\n",
       "      <td>14</td>\n",
       "      <td>0</td>\n",
       "      <td>2</td>\n",
       "      <td>Personal</td>\n",
       "      <td>P_L2</td>\n",
       "      <td>Branch</td>\n",
       "    </tr>\n",
       "  </tbody>\n",
       "</table>\n",
       "<p>5 rows × 23 columns</p>\n",
       "</div>"
      ],
      "text/plain": [
       "     Customer_ID     Sex  Earnings Region_Code Marital Status State_of_Origin  \\\n",
       "0   Customer_708    Male    149170       Rural        Married           Lagos   \n",
       "1    Customer_47  Female     46436    Suburban         Single           Abuja   \n",
       "2  Customer_3995  Female    189806    Suburban        Married           Abuja   \n",
       "3  Customer_1513  Female    154306       Urban        Married           Lagos   \n",
       "4  Customer_3686  Female     47538    Suburban       Divorced            Kano   \n",
       "\n",
       "   Customer_Worth  Customer_Reply    Plan Certification  ...  \\\n",
       "0     4224.631209  Not_interested  Bronze       O_Level  ...   \n",
       "1     5516.344018  Not_interested  Bronze       O_Level  ...   \n",
       "2     3810.122147      Interested  Silver           HND  ...   \n",
       "3     7916.823110  Not_interested  Silver           HND  ...   \n",
       "4     7933.722181  Not_interested  Bronze       O_Level  ...   \n",
       "\n",
       "  Total Claim Amount  Vehicle Class  Vehicle Size  Months Since Last Claim  \\\n",
       "0         218.598065            SUV       Medsize                        1   \n",
       "1         447.793440   Two-Door Car       Medsize                        7   \n",
       "2         451.200000   Two-Door Car         Small                        3   \n",
       "3         355.641958  Four-Door Car       Medsize                        3   \n",
       "4         470.097411  Four-Door Car       Medsize                       18   \n",
       "\n",
       "  Months Since Policy Inception Counts_of_Open_Complaints  No_Of_POlicy  \\\n",
       "0                            49                         0             1   \n",
       "1                            10                         0             4   \n",
       "2                            38                         0             1   \n",
       "3                            27                         2             5   \n",
       "4                            14                         0             2   \n",
       "\n",
       "   kind_of_policy  Active_Policy  Sales Channel  \n",
       "0        Personal           P_L3          Agent  \n",
       "1        Personal           P_L2          Agent  \n",
       "2        Personal           P_L3          Agent  \n",
       "3        Personal           P_L3         Branch  \n",
       "4        Personal           P_L2         Branch  \n",
       "\n",
       "[5 rows x 23 columns]"
      ]
     },
     "execution_count": 9,
     "metadata": {},
     "output_type": "execute_result"
    }
   ],
   "source": [
    "test_insurance.head()"
   ]
  },
  {
   "cell_type": "code",
   "execution_count": 10,
   "id": "44c4fc17",
   "metadata": {},
   "outputs": [
    {
     "data": {
      "text/plain": [
       "['Best_Offer']"
      ]
     },
     "execution_count": 10,
     "metadata": {},
     "output_type": "execute_result"
    }
   ],
   "source": [
    "target_col = [col for col in train_insurance.columns if col not in test_insurance.columns]\n",
    "target_col"
   ]
  },
  {
   "cell_type": "code",
   "execution_count": 11,
   "id": "72659b60",
   "metadata": {},
   "outputs": [
    {
     "data": {
      "text/plain": [
       "[]"
      ]
     },
     "execution_count": 11,
     "metadata": {},
     "output_type": "execute_result"
    }
   ],
   "source": [
    "#grouping the features into categorical and numerical\n",
    "\n",
    "categorical_feat = [Customer_ID for Customer_ID in train_insurance.columns if train_insurance[Customer_ID].all() == '0']\n",
    "categorical_feat"
   ]
  },
  {
   "cell_type": "code",
   "execution_count": 12,
   "id": "9810a9c0",
   "metadata": {},
   "outputs": [
    {
     "data": {
      "text/plain": [
       "['Customer_ID',\n",
       " 'Sex',\n",
       " 'Earnings',\n",
       " 'Region_Code',\n",
       " 'Marital Status',\n",
       " 'State_of_Origin',\n",
       " 'Customer_Worth',\n",
       " 'Customer_Reply',\n",
       " 'Plan',\n",
       " 'Certification',\n",
       " 'Effective To Date',\n",
       " 'Status_of_Employment',\n",
       " 'Premium_Auto_per_Month',\n",
       " 'Total Claim Amount',\n",
       " 'Vehicle Class',\n",
       " 'Vehicle Size',\n",
       " 'Months Since Last Claim',\n",
       " 'Months Since Policy Inception',\n",
       " 'Counts_of_Open_Complaints',\n",
       " 'No_Of_POlicy',\n",
       " 'kind_of_policy',\n",
       " 'Active_Policy',\n",
       " 'Sales Channel',\n",
       " 'Best_Offer']"
      ]
     },
     "execution_count": 12,
     "metadata": {},
     "output_type": "execute_result"
    }
   ],
   "source": [
    "num_feat = [feat for feat in train_insurance.columns if feat not in categorical_feat]\n",
    "num_feat"
   ]
  },
  {
   "cell_type": "code",
   "execution_count": 13,
   "id": "3c71c5f8",
   "metadata": {},
   "outputs": [
    {
     "data": {
      "text/plain": [
       "['Sex',\n",
       " 'Earnings',\n",
       " 'Region_Code',\n",
       " 'Marital Status',\n",
       " 'State_of_Origin',\n",
       " 'Customer_Worth',\n",
       " 'Customer_Reply',\n",
       " 'Plan',\n",
       " 'Certification',\n",
       " 'Effective To Date',\n",
       " 'Status_of_Employment',\n",
       " 'Premium_Auto_per_Month',\n",
       " 'Total Claim Amount',\n",
       " 'Vehicle Class',\n",
       " 'Vehicle Size',\n",
       " 'Months Since Last Claim',\n",
       " 'Months Since Policy Inception',\n",
       " 'Counts_of_Open_Complaints',\n",
       " 'No_Of_POlicy',\n",
       " 'kind_of_policy',\n",
       " 'Active_Policy',\n",
       " 'Sales Channel']"
      ]
     },
     "execution_count": 13,
     "metadata": {},
     "output_type": "execute_result"
    }
   ],
   "source": [
    "rem = [\"Customer_ID\", \"Best_Offer\"]\n",
    "\n",
    "for i in rem:\n",
    "    num_feat.remove(i)\n",
    "    \n",
    "num_feat"
   ]
  },
  {
   "cell_type": "code",
   "execution_count": 14,
   "id": "b69b4843",
   "metadata": {},
   "outputs": [
    {
     "data": {
      "text/html": [
       "<div>\n",
       "<style scoped>\n",
       "    .dataframe tbody tr th:only-of-type {\n",
       "        vertical-align: middle;\n",
       "    }\n",
       "\n",
       "    .dataframe tbody tr th {\n",
       "        vertical-align: top;\n",
       "    }\n",
       "\n",
       "    .dataframe thead th {\n",
       "        text-align: right;\n",
       "    }\n",
       "</style>\n",
       "<table border=\"1\" class=\"dataframe\">\n",
       "  <thead>\n",
       "    <tr style=\"text-align: right;\">\n",
       "      <th></th>\n",
       "      <th>Sex</th>\n",
       "      <th>Earnings</th>\n",
       "      <th>Region_Code</th>\n",
       "      <th>Marital Status</th>\n",
       "      <th>State_of_Origin</th>\n",
       "      <th>Customer_Worth</th>\n",
       "      <th>Customer_Reply</th>\n",
       "      <th>Plan</th>\n",
       "      <th>Certification</th>\n",
       "      <th>Effective To Date</th>\n",
       "      <th>...</th>\n",
       "      <th>Total Claim Amount</th>\n",
       "      <th>Vehicle Class</th>\n",
       "      <th>Vehicle Size</th>\n",
       "      <th>Months Since Last Claim</th>\n",
       "      <th>Months Since Policy Inception</th>\n",
       "      <th>Counts_of_Open_Complaints</th>\n",
       "      <th>No_Of_POlicy</th>\n",
       "      <th>kind_of_policy</th>\n",
       "      <th>Active_Policy</th>\n",
       "      <th>Sales Channel</th>\n",
       "    </tr>\n",
       "  </thead>\n",
       "  <tbody>\n",
       "    <tr>\n",
       "      <th>0</th>\n",
       "      <td>Female</td>\n",
       "      <td>97134</td>\n",
       "      <td>Suburban</td>\n",
       "      <td>Single</td>\n",
       "      <td>Kano</td>\n",
       "      <td>5017.009472</td>\n",
       "      <td>Interested</td>\n",
       "      <td>Silver</td>\n",
       "      <td>First_Degree</td>\n",
       "      <td>3/2/2011</td>\n",
       "      <td>...</td>\n",
       "      <td>624.000000</td>\n",
       "      <td>SUV</td>\n",
       "      <td>Medsize</td>\n",
       "      <td>12</td>\n",
       "      <td>15</td>\n",
       "      <td>0</td>\n",
       "      <td>1</td>\n",
       "      <td>Corporate</td>\n",
       "      <td>C_L2</td>\n",
       "      <td>Agent</td>\n",
       "    </tr>\n",
       "    <tr>\n",
       "      <th>1</th>\n",
       "      <td>Female</td>\n",
       "      <td>53754</td>\n",
       "      <td>Suburban</td>\n",
       "      <td>Married</td>\n",
       "      <td>Abuja</td>\n",
       "      <td>5151.301306</td>\n",
       "      <td>Not_interested</td>\n",
       "      <td>Silver</td>\n",
       "      <td>First_Degree</td>\n",
       "      <td>1/22/11</td>\n",
       "      <td>...</td>\n",
       "      <td>628.800000</td>\n",
       "      <td>SUV</td>\n",
       "      <td>Small</td>\n",
       "      <td>5</td>\n",
       "      <td>2</td>\n",
       "      <td>0</td>\n",
       "      <td>1</td>\n",
       "      <td>Personal</td>\n",
       "      <td>P_L2</td>\n",
       "      <td>Agent</td>\n",
       "    </tr>\n",
       "    <tr>\n",
       "      <th>2</th>\n",
       "      <td>Female</td>\n",
       "      <td>25804</td>\n",
       "      <td>Suburban</td>\n",
       "      <td>Divorced</td>\n",
       "      <td>Lagos</td>\n",
       "      <td>4906.894731</td>\n",
       "      <td>Interested</td>\n",
       "      <td>Silver</td>\n",
       "      <td>HND</td>\n",
       "      <td>2/14/11</td>\n",
       "      <td>...</td>\n",
       "      <td>667.200000</td>\n",
       "      <td>Sports Car</td>\n",
       "      <td>Medsize</td>\n",
       "      <td>3</td>\n",
       "      <td>51</td>\n",
       "      <td>0</td>\n",
       "      <td>1</td>\n",
       "      <td>Personal</td>\n",
       "      <td>P_L3</td>\n",
       "      <td>Agent</td>\n",
       "    </tr>\n",
       "    <tr>\n",
       "      <th>3</th>\n",
       "      <td>Female</td>\n",
       "      <td>0</td>\n",
       "      <td>Suburban</td>\n",
       "      <td>Single</td>\n",
       "      <td>Imo</td>\n",
       "      <td>8512.525936</td>\n",
       "      <td>Not_interested</td>\n",
       "      <td>Silver</td>\n",
       "      <td>HND</td>\n",
       "      <td>8/1/2011</td>\n",
       "      <td>...</td>\n",
       "      <td>871.200000</td>\n",
       "      <td>Sports Car</td>\n",
       "      <td>Medsize</td>\n",
       "      <td>5</td>\n",
       "      <td>94</td>\n",
       "      <td>0</td>\n",
       "      <td>8</td>\n",
       "      <td>Personal</td>\n",
       "      <td>P_L2</td>\n",
       "      <td>Branch</td>\n",
       "    </tr>\n",
       "    <tr>\n",
       "      <th>4</th>\n",
       "      <td>Male</td>\n",
       "      <td>140494</td>\n",
       "      <td>Rural</td>\n",
       "      <td>Single</td>\n",
       "      <td>Imo</td>\n",
       "      <td>3280.531880</td>\n",
       "      <td>Not_interested</td>\n",
       "      <td>Silver</td>\n",
       "      <td>PHD</td>\n",
       "      <td>2/19/11</td>\n",
       "      <td>...</td>\n",
       "      <td>141.799422</td>\n",
       "      <td>Four-Door Car</td>\n",
       "      <td>Medsize</td>\n",
       "      <td>13</td>\n",
       "      <td>19</td>\n",
       "      <td>2</td>\n",
       "      <td>1</td>\n",
       "      <td>Personal</td>\n",
       "      <td>P_L2</td>\n",
       "      <td>Call Center</td>\n",
       "    </tr>\n",
       "  </tbody>\n",
       "</table>\n",
       "<p>5 rows × 22 columns</p>\n",
       "</div>"
      ],
      "text/plain": [
       "      Sex  Earnings Region_Code Marital Status State_of_Origin  \\\n",
       "0  Female     97134    Suburban         Single            Kano   \n",
       "1  Female     53754    Suburban        Married           Abuja   \n",
       "2  Female     25804    Suburban       Divorced           Lagos   \n",
       "3  Female         0    Suburban         Single             Imo   \n",
       "4    Male    140494       Rural         Single             Imo   \n",
       "\n",
       "   Customer_Worth  Customer_Reply    Plan Certification Effective To Date  \\\n",
       "0     5017.009472      Interested  Silver  First_Degree          3/2/2011   \n",
       "1     5151.301306  Not_interested  Silver  First_Degree           1/22/11   \n",
       "2     4906.894731      Interested  Silver           HND           2/14/11   \n",
       "3     8512.525936  Not_interested  Silver           HND          8/1/2011   \n",
       "4     3280.531880  Not_interested  Silver           PHD           2/19/11   \n",
       "\n",
       "   ... Total Claim Amount  Vehicle Class  Vehicle Size  \\\n",
       "0  ...         624.000000            SUV       Medsize   \n",
       "1  ...         628.800000            SUV         Small   \n",
       "2  ...         667.200000     Sports Car       Medsize   \n",
       "3  ...         871.200000     Sports Car       Medsize   \n",
       "4  ...         141.799422  Four-Door Car       Medsize   \n",
       "\n",
       "  Months Since Last Claim Months Since Policy Inception  \\\n",
       "0                      12                            15   \n",
       "1                       5                             2   \n",
       "2                       3                            51   \n",
       "3                       5                            94   \n",
       "4                      13                            19   \n",
       "\n",
       "   Counts_of_Open_Complaints  No_Of_POlicy  kind_of_policy  Active_Policy  \\\n",
       "0                          0             1       Corporate           C_L2   \n",
       "1                          0             1        Personal           P_L2   \n",
       "2                          0             1        Personal           P_L3   \n",
       "3                          0             8        Personal           P_L2   \n",
       "4                          2             1        Personal           P_L2   \n",
       "\n",
       "  Sales Channel  \n",
       "0         Agent  \n",
       "1         Agent  \n",
       "2         Agent  \n",
       "3        Branch  \n",
       "4   Call Center  \n",
       "\n",
       "[5 rows x 22 columns]"
      ]
     },
     "execution_count": 14,
     "metadata": {},
     "output_type": "execute_result"
    }
   ],
   "source": [
    "train_insurance[num_feat].head()"
   ]
  },
  {
   "cell_type": "code",
   "execution_count": 15,
   "id": "8c658387",
   "metadata": {},
   "outputs": [
    {
     "name": "stderr",
     "output_type": "stream",
     "text": [
      "C:\\Users\\DELL\\anaconda3\\lib\\site-packages\\pandas\\core\\frame.py:4441: SettingWithCopyWarning: \n",
      "A value is trying to be set on a copy of a slice from a DataFrame\n",
      "\n",
      "See the caveats in the documentation: https://pandas.pydata.org/pandas-docs/stable/user_guide/indexing.html#returning-a-view-versus-a-copy\n",
      "  return super().rename(\n"
     ]
    }
   ],
   "source": [
    "df = train_insurance[num_feat]\n",
    "df.rename(columns = {'Marital Status':'Marital_Status',\n",
    "                     'Total Claim Amount':'Total_Claim_Amount',\n",
    "                     'Effective To Date':'Effective_To_Date',\n",
    "                     'Vehicle Class':'Vehicle_Class',\n",
    "                     'Vehicle Size':'Vehicle_Size',\n",
    "                     'Months Since Last Claim':'Months_Since_Last_Claim',\n",
    "                     'Months Since Policy Inception':'Months_Since_Policy_Inception',\n",
    "                     'Sales Channel':'Sales_Channel'\n",
    "                    }, inplace = True)"
   ]
  },
  {
   "cell_type": "code",
   "execution_count": 16,
   "id": "a0b733af",
   "metadata": {},
   "outputs": [],
   "source": [
    "df2 = test_insurance[num_feat]\n",
    "df2.rename(columns = {'Marital Status':'Marital_Status',\n",
    "                     'Total Claim Amount':'Total_Claim_Amount',\n",
    "                     'Effective To Date':'Effective_To_Date',\n",
    "                     'Vehicle Class':'Vehicle_Class',\n",
    "                     'Vehicle Size':'Vehicle_Size',\n",
    "                     'Months Since Last Claim':'Months_Since_Last_Claim',\n",
    "                     'Months Since Policy Inception':'Months_Since_Policy_Inception',\n",
    "                     'Sales Channel':'Sales_Channel'\n",
    "                    }, inplace = True)"
   ]
  },
  {
   "cell_type": "code",
   "execution_count": 17,
   "id": "bdd9a4ae",
   "metadata": {},
   "outputs": [],
   "source": [
    "from sklearn.model_selection import train_test_split\n",
    "from sklearn.linear_model import LogisticRegression, LogisticRegressionCV\n",
    "from sklearn.preprocessing import LabelEncoder, StandardScaler\n",
    "from sklearn import metrics"
   ]
  },
  {
   "cell_type": "code",
   "execution_count": 18,
   "id": "66b4a28c",
   "metadata": {},
   "outputs": [
    {
     "data": {
      "text/plain": [
       "LabelEncoder()"
      ]
     },
     "execution_count": 18,
     "metadata": {},
     "output_type": "execute_result"
    }
   ],
   "source": [
    "le = LabelEncoder()\n",
    "le"
   ]
  },
  {
   "cell_type": "code",
   "execution_count": 19,
   "id": "fbef4892",
   "metadata": {},
   "outputs": [
    {
     "name": "stderr",
     "output_type": "stream",
     "text": [
      "C:\\Users\\DELL\\anaconda3\\lib\\site-packages\\pandas\\core\\generic.py:5494: SettingWithCopyWarning: \n",
      "A value is trying to be set on a copy of a slice from a DataFrame.\n",
      "Try using .loc[row_indexer,col_indexer] = value instead\n",
      "\n",
      "See the caveats in the documentation: https://pandas.pydata.org/pandas-docs/stable/user_guide/indexing.html#returning-a-view-versus-a-copy\n",
      "  self[name] = value\n"
     ]
    }
   ],
   "source": [
    "df_train = df\n",
    "df_train.Sex = le.fit_transform(df_train.Sex)\n",
    "df_train.Region_Code = le.fit_transform(df_train.Region_Code)\n",
    "df_train.Marital_Status = le.fit_transform(df_train.Marital_Status)\n",
    "df_train.State_of_Origin = le.fit_transform(df_train.State_of_Origin)\n",
    "df_train.Customer_Reply = le.fit_transform(df_train.Customer_Reply)\n",
    "df_train.Plan = le.fit_transform(df_train.Plan)\n",
    "df_train.Certification = le.fit_transform(df_train.Certification)\n",
    "df_train.Status_of_Employment = le.fit_transform(df_train.Status_of_Employment)\n",
    "df_train.Vehicle_Class = le.fit_transform(df_train.Vehicle_Class)\n",
    "df_train.Vehicle_Size = le.fit_transform(df_train.Vehicle_Size)\n",
    "df_train.kind_of_policy = le.fit_transform(df_train.kind_of_policy)\n",
    "df_train.Active_Policy = le.fit_transform(df_train.Active_Policy)\n",
    "df_train.Sales_Channel = le.fit_transform(df_train.Sales_Channel)"
   ]
  },
  {
   "cell_type": "code",
   "execution_count": 20,
   "id": "09f5da02",
   "metadata": {},
   "outputs": [],
   "source": [
    "df_test = df2\n",
    "df_test.Sex = le.fit_transform(df_test.Sex)\n",
    "df_test.Region_Code = le.fit_transform(df_test.Region_Code)\n",
    "df_test.Marital_Status =le.fit_transform(df_test.Marital_Status)\n",
    "df_test.State_of_Origin = le.fit_transform(df_test.State_of_Origin)\n",
    "df_test.Customer_Reply = le.fit_transform(df_test.Customer_Reply)\n",
    "df_test.Plan = le.fit_transform(df_test.Plan)\n",
    "df_test.Certification = le.fit_transform(df_test.Certification)\n",
    "df_test.Status_of_Employment = le.fit_transform(df_test.Status_of_Employment)\n",
    "df_test.Vehicle_Class = le.fit_transform(df_test.Vehicle_Class)\n",
    "df_test.Vehicle_Size = le.fit_transform(df_test.Vehicle_Size)\n",
    "df_test.kind_of_policy = le.fit_transform(df_test.kind_of_policy)\n",
    "df_test.Active_Policy = le.fit_transform(df_test.Active_Policy)\n",
    "df_test.Sales_Channel = le.fit_transform(df_test.Sales_Channel)"
   ]
  },
  {
   "cell_type": "code",
   "execution_count": 21,
   "id": "df5a918e",
   "metadata": {},
   "outputs": [],
   "source": [
    "#num_feat.remove('Effective To Date')"
   ]
  },
  {
   "cell_type": "code",
   "execution_count": 22,
   "id": "ce54bd99",
   "metadata": {},
   "outputs": [
    {
     "name": "stdout",
     "output_type": "stream",
     "text": [
      "<class 'pandas.core.frame.DataFrame'>\n",
      "RangeIndex: 6393 entries, 0 to 6392\n",
      "Data columns (total 22 columns):\n",
      " #   Column                         Non-Null Count  Dtype  \n",
      "---  ------                         --------------  -----  \n",
      " 0   Sex                            6393 non-null   int32  \n",
      " 1   Earnings                       6393 non-null   int64  \n",
      " 2   Region_Code                    6393 non-null   int32  \n",
      " 3   Marital_Status                 6393 non-null   int32  \n",
      " 4   State_of_Origin                6393 non-null   int32  \n",
      " 5   Customer_Worth                 6393 non-null   float64\n",
      " 6   Customer_Reply                 6393 non-null   int32  \n",
      " 7   Plan                           6393 non-null   int32  \n",
      " 8   Certification                  6393 non-null   int32  \n",
      " 9   Effective_To_Date              6393 non-null   object \n",
      " 10  Status_of_Employment           6393 non-null   int32  \n",
      " 11  Premium_Auto_per_Month         6393 non-null   int64  \n",
      " 12  Total_Claim_Amount             6393 non-null   float64\n",
      " 13  Vehicle_Class                  6393 non-null   int32  \n",
      " 14  Vehicle_Size                   6393 non-null   int32  \n",
      " 15  Months_Since_Last_Claim        6393 non-null   int64  \n",
      " 16  Months_Since_Policy_Inception  6393 non-null   int64  \n",
      " 17  Counts_of_Open_Complaints      6393 non-null   int64  \n",
      " 18  No_Of_POlicy                   6393 non-null   int64  \n",
      " 19  kind_of_policy                 6393 non-null   int32  \n",
      " 20  Active_Policy                  6393 non-null   int32  \n",
      " 21  Sales_Channel                  6393 non-null   int32  \n",
      "dtypes: float64(2), int32(13), int64(6), object(1)\n",
      "memory usage: 774.3+ KB\n"
     ]
    }
   ],
   "source": [
    "df.info()"
   ]
  },
  {
   "cell_type": "code",
   "execution_count": 23,
   "id": "684c4263",
   "metadata": {},
   "outputs": [
    {
     "name": "stderr",
     "output_type": "stream",
     "text": [
      "<ipython-input-23-14b7e2288f5c>:3: SettingWithCopyWarning: \n",
      "A value is trying to be set on a copy of a slice from a DataFrame.\n",
      "Try using .loc[row_indexer,col_indexer] = value instead\n",
      "\n",
      "See the caveats in the documentation: https://pandas.pydata.org/pandas-docs/stable/user_guide/indexing.html#returning-a-view-versus-a-copy\n",
      "  df['Effective_To_Date'] = pd.to_datetime(df['Effective_To_Date'])\n",
      "<ipython-input-23-14b7e2288f5c>:4: SettingWithCopyWarning: \n",
      "A value is trying to be set on a copy of a slice from a DataFrame.\n",
      "Try using .loc[row_indexer,col_indexer] = value instead\n",
      "\n",
      "See the caveats in the documentation: https://pandas.pydata.org/pandas-docs/stable/user_guide/indexing.html#returning-a-view-versus-a-copy\n",
      "  df['YearMonth'] = df['Effective_To_Date'].map(lambda x: 100*x.year + x.month)\n"
     ]
    }
   ],
   "source": [
    "#df.drop([\"Effective_To_Date\"], axis=1, inplace=True)\n",
    "#So date doesn't get dropped in next step\n",
    "df['Effective_To_Date'] = pd.to_datetime(df['Effective_To_Date'])\n",
    "df['YearMonth'] = df['Effective_To_Date'].map(lambda x: 100*x.year + x.month)\n",
    "df['Year'] = df['Effective_To_Date'].map(lambda x: x.year)\n",
    "df['Month'] = df['Effective_To_Date'].map(lambda x: x.month)"
   ]
  },
  {
   "cell_type": "code",
   "execution_count": 24,
   "id": "b1295762",
   "metadata": {},
   "outputs": [
    {
     "data": {
      "text/html": [
       "<div>\n",
       "<style scoped>\n",
       "    .dataframe tbody tr th:only-of-type {\n",
       "        vertical-align: middle;\n",
       "    }\n",
       "\n",
       "    .dataframe tbody tr th {\n",
       "        vertical-align: top;\n",
       "    }\n",
       "\n",
       "    .dataframe thead th {\n",
       "        text-align: right;\n",
       "    }\n",
       "</style>\n",
       "<table border=\"1\" class=\"dataframe\">\n",
       "  <thead>\n",
       "    <tr style=\"text-align: right;\">\n",
       "      <th></th>\n",
       "      <th>Sex</th>\n",
       "      <th>Earnings</th>\n",
       "      <th>Region_Code</th>\n",
       "      <th>Marital_Status</th>\n",
       "      <th>State_of_Origin</th>\n",
       "      <th>Customer_Worth</th>\n",
       "      <th>Customer_Reply</th>\n",
       "      <th>Plan</th>\n",
       "      <th>Certification</th>\n",
       "      <th>Effective_To_Date</th>\n",
       "      <th>...</th>\n",
       "      <th>Months_Since_Last_Claim</th>\n",
       "      <th>Months_Since_Policy_Inception</th>\n",
       "      <th>Counts_of_Open_Complaints</th>\n",
       "      <th>No_Of_POlicy</th>\n",
       "      <th>kind_of_policy</th>\n",
       "      <th>Active_Policy</th>\n",
       "      <th>Sales_Channel</th>\n",
       "      <th>YearMonth</th>\n",
       "      <th>Year</th>\n",
       "      <th>Month</th>\n",
       "    </tr>\n",
       "  </thead>\n",
       "  <tbody>\n",
       "    <tr>\n",
       "      <th>0</th>\n",
       "      <td>0</td>\n",
       "      <td>97134</td>\n",
       "      <td>1</td>\n",
       "      <td>2</td>\n",
       "      <td>3</td>\n",
       "      <td>5017.009472</td>\n",
       "      <td>0</td>\n",
       "      <td>2</td>\n",
       "      <td>0</td>\n",
       "      <td>2011-03-02</td>\n",
       "      <td>...</td>\n",
       "      <td>12</td>\n",
       "      <td>15</td>\n",
       "      <td>0</td>\n",
       "      <td>1</td>\n",
       "      <td>0</td>\n",
       "      <td>1</td>\n",
       "      <td>0</td>\n",
       "      <td>201103</td>\n",
       "      <td>2011</td>\n",
       "      <td>3</td>\n",
       "    </tr>\n",
       "    <tr>\n",
       "      <th>1</th>\n",
       "      <td>0</td>\n",
       "      <td>53754</td>\n",
       "      <td>1</td>\n",
       "      <td>1</td>\n",
       "      <td>0</td>\n",
       "      <td>5151.301306</td>\n",
       "      <td>1</td>\n",
       "      <td>2</td>\n",
       "      <td>0</td>\n",
       "      <td>2011-01-22</td>\n",
       "      <td>...</td>\n",
       "      <td>5</td>\n",
       "      <td>2</td>\n",
       "      <td>0</td>\n",
       "      <td>1</td>\n",
       "      <td>1</td>\n",
       "      <td>4</td>\n",
       "      <td>0</td>\n",
       "      <td>201101</td>\n",
       "      <td>2011</td>\n",
       "      <td>1</td>\n",
       "    </tr>\n",
       "    <tr>\n",
       "      <th>2</th>\n",
       "      <td>0</td>\n",
       "      <td>25804</td>\n",
       "      <td>1</td>\n",
       "      <td>0</td>\n",
       "      <td>4</td>\n",
       "      <td>4906.894731</td>\n",
       "      <td>0</td>\n",
       "      <td>2</td>\n",
       "      <td>1</td>\n",
       "      <td>2011-02-14</td>\n",
       "      <td>...</td>\n",
       "      <td>3</td>\n",
       "      <td>51</td>\n",
       "      <td>0</td>\n",
       "      <td>1</td>\n",
       "      <td>1</td>\n",
       "      <td>5</td>\n",
       "      <td>0</td>\n",
       "      <td>201102</td>\n",
       "      <td>2011</td>\n",
       "      <td>2</td>\n",
       "    </tr>\n",
       "    <tr>\n",
       "      <th>3</th>\n",
       "      <td>0</td>\n",
       "      <td>0</td>\n",
       "      <td>1</td>\n",
       "      <td>2</td>\n",
       "      <td>2</td>\n",
       "      <td>8512.525936</td>\n",
       "      <td>1</td>\n",
       "      <td>2</td>\n",
       "      <td>1</td>\n",
       "      <td>2011-08-01</td>\n",
       "      <td>...</td>\n",
       "      <td>5</td>\n",
       "      <td>94</td>\n",
       "      <td>0</td>\n",
       "      <td>8</td>\n",
       "      <td>1</td>\n",
       "      <td>4</td>\n",
       "      <td>1</td>\n",
       "      <td>201108</td>\n",
       "      <td>2011</td>\n",
       "      <td>8</td>\n",
       "    </tr>\n",
       "    <tr>\n",
       "      <th>4</th>\n",
       "      <td>1</td>\n",
       "      <td>140494</td>\n",
       "      <td>0</td>\n",
       "      <td>2</td>\n",
       "      <td>2</td>\n",
       "      <td>3280.531880</td>\n",
       "      <td>1</td>\n",
       "      <td>2</td>\n",
       "      <td>3</td>\n",
       "      <td>2011-02-19</td>\n",
       "      <td>...</td>\n",
       "      <td>13</td>\n",
       "      <td>19</td>\n",
       "      <td>2</td>\n",
       "      <td>1</td>\n",
       "      <td>1</td>\n",
       "      <td>4</td>\n",
       "      <td>2</td>\n",
       "      <td>201102</td>\n",
       "      <td>2011</td>\n",
       "      <td>2</td>\n",
       "    </tr>\n",
       "  </tbody>\n",
       "</table>\n",
       "<p>5 rows × 25 columns</p>\n",
       "</div>"
      ],
      "text/plain": [
       "   Sex  Earnings  Region_Code  Marital_Status  State_of_Origin  \\\n",
       "0    0     97134            1               2                3   \n",
       "1    0     53754            1               1                0   \n",
       "2    0     25804            1               0                4   \n",
       "3    0         0            1               2                2   \n",
       "4    1    140494            0               2                2   \n",
       "\n",
       "   Customer_Worth  Customer_Reply  Plan  Certification Effective_To_Date  ...  \\\n",
       "0     5017.009472               0     2              0        2011-03-02  ...   \n",
       "1     5151.301306               1     2              0        2011-01-22  ...   \n",
       "2     4906.894731               0     2              1        2011-02-14  ...   \n",
       "3     8512.525936               1     2              1        2011-08-01  ...   \n",
       "4     3280.531880               1     2              3        2011-02-19  ...   \n",
       "\n",
       "   Months_Since_Last_Claim  Months_Since_Policy_Inception  \\\n",
       "0                       12                             15   \n",
       "1                        5                              2   \n",
       "2                        3                             51   \n",
       "3                        5                             94   \n",
       "4                       13                             19   \n",
       "\n",
       "   Counts_of_Open_Complaints  No_Of_POlicy  kind_of_policy  Active_Policy  \\\n",
       "0                          0             1               0              1   \n",
       "1                          0             1               1              4   \n",
       "2                          0             1               1              5   \n",
       "3                          0             8               1              4   \n",
       "4                          2             1               1              4   \n",
       "\n",
       "   Sales_Channel  YearMonth  Year  Month  \n",
       "0              0     201103  2011      3  \n",
       "1              0     201101  2011      1  \n",
       "2              0     201102  2011      2  \n",
       "3              1     201108  2011      8  \n",
       "4              2     201102  2011      2  \n",
       "\n",
       "[5 rows x 25 columns]"
      ]
     },
     "execution_count": 24,
     "metadata": {},
     "output_type": "execute_result"
    }
   ],
   "source": [
    "df.head()"
   ]
  },
  {
   "cell_type": "code",
   "execution_count": 25,
   "id": "a57896c0",
   "metadata": {},
   "outputs": [
    {
     "data": {
      "text/html": [
       "<div>\n",
       "<style scoped>\n",
       "    .dataframe tbody tr th:only-of-type {\n",
       "        vertical-align: middle;\n",
       "    }\n",
       "\n",
       "    .dataframe tbody tr th {\n",
       "        vertical-align: top;\n",
       "    }\n",
       "\n",
       "    .dataframe thead th {\n",
       "        text-align: right;\n",
       "    }\n",
       "</style>\n",
       "<table border=\"1\" class=\"dataframe\">\n",
       "  <thead>\n",
       "    <tr style=\"text-align: right;\">\n",
       "      <th></th>\n",
       "      <th>Sex</th>\n",
       "      <th>Earnings</th>\n",
       "      <th>Region_Code</th>\n",
       "      <th>Marital_Status</th>\n",
       "      <th>State_of_Origin</th>\n",
       "      <th>Customer_Worth</th>\n",
       "      <th>Customer_Reply</th>\n",
       "      <th>Plan</th>\n",
       "      <th>Certification</th>\n",
       "      <th>Effective_To_Date</th>\n",
       "      <th>...</th>\n",
       "      <th>Total_Claim_Amount</th>\n",
       "      <th>Vehicle_Class</th>\n",
       "      <th>Vehicle_Size</th>\n",
       "      <th>Months_Since_Last_Claim</th>\n",
       "      <th>Months_Since_Policy_Inception</th>\n",
       "      <th>Counts_of_Open_Complaints</th>\n",
       "      <th>No_Of_POlicy</th>\n",
       "      <th>kind_of_policy</th>\n",
       "      <th>Active_Policy</th>\n",
       "      <th>Sales_Channel</th>\n",
       "    </tr>\n",
       "  </thead>\n",
       "  <tbody>\n",
       "    <tr>\n",
       "      <th>0</th>\n",
       "      <td>1</td>\n",
       "      <td>149170</td>\n",
       "      <td>0</td>\n",
       "      <td>1</td>\n",
       "      <td>4</td>\n",
       "      <td>4224.631209</td>\n",
       "      <td>1</td>\n",
       "      <td>0</td>\n",
       "      <td>2</td>\n",
       "      <td>1/17/11</td>\n",
       "      <td>...</td>\n",
       "      <td>218.598065</td>\n",
       "      <td>3</td>\n",
       "      <td>1</td>\n",
       "      <td>1</td>\n",
       "      <td>49</td>\n",
       "      <td>0</td>\n",
       "      <td>1</td>\n",
       "      <td>1</td>\n",
       "      <td>5</td>\n",
       "      <td>0</td>\n",
       "    </tr>\n",
       "    <tr>\n",
       "      <th>1</th>\n",
       "      <td>0</td>\n",
       "      <td>46436</td>\n",
       "      <td>1</td>\n",
       "      <td>2</td>\n",
       "      <td>0</td>\n",
       "      <td>5516.344018</td>\n",
       "      <td>1</td>\n",
       "      <td>0</td>\n",
       "      <td>2</td>\n",
       "      <td>2/1/2011</td>\n",
       "      <td>...</td>\n",
       "      <td>447.793440</td>\n",
       "      <td>5</td>\n",
       "      <td>1</td>\n",
       "      <td>7</td>\n",
       "      <td>10</td>\n",
       "      <td>0</td>\n",
       "      <td>4</td>\n",
       "      <td>1</td>\n",
       "      <td>4</td>\n",
       "      <td>0</td>\n",
       "    </tr>\n",
       "    <tr>\n",
       "      <th>2</th>\n",
       "      <td>0</td>\n",
       "      <td>189806</td>\n",
       "      <td>1</td>\n",
       "      <td>1</td>\n",
       "      <td>0</td>\n",
       "      <td>3810.122147</td>\n",
       "      <td>0</td>\n",
       "      <td>2</td>\n",
       "      <td>1</td>\n",
       "      <td>1/28/11</td>\n",
       "      <td>...</td>\n",
       "      <td>451.200000</td>\n",
       "      <td>5</td>\n",
       "      <td>2</td>\n",
       "      <td>3</td>\n",
       "      <td>38</td>\n",
       "      <td>0</td>\n",
       "      <td>1</td>\n",
       "      <td>1</td>\n",
       "      <td>5</td>\n",
       "      <td>0</td>\n",
       "    </tr>\n",
       "    <tr>\n",
       "      <th>3</th>\n",
       "      <td>0</td>\n",
       "      <td>154306</td>\n",
       "      <td>2</td>\n",
       "      <td>1</td>\n",
       "      <td>4</td>\n",
       "      <td>7916.823110</td>\n",
       "      <td>1</td>\n",
       "      <td>2</td>\n",
       "      <td>1</td>\n",
       "      <td>9/2/2011</td>\n",
       "      <td>...</td>\n",
       "      <td>355.641958</td>\n",
       "      <td>0</td>\n",
       "      <td>1</td>\n",
       "      <td>3</td>\n",
       "      <td>27</td>\n",
       "      <td>2</td>\n",
       "      <td>5</td>\n",
       "      <td>1</td>\n",
       "      <td>5</td>\n",
       "      <td>1</td>\n",
       "    </tr>\n",
       "    <tr>\n",
       "      <th>4</th>\n",
       "      <td>0</td>\n",
       "      <td>47538</td>\n",
       "      <td>1</td>\n",
       "      <td>0</td>\n",
       "      <td>3</td>\n",
       "      <td>7933.722181</td>\n",
       "      <td>1</td>\n",
       "      <td>0</td>\n",
       "      <td>2</td>\n",
       "      <td>2/20/11</td>\n",
       "      <td>...</td>\n",
       "      <td>470.097411</td>\n",
       "      <td>0</td>\n",
       "      <td>1</td>\n",
       "      <td>18</td>\n",
       "      <td>14</td>\n",
       "      <td>0</td>\n",
       "      <td>2</td>\n",
       "      <td>1</td>\n",
       "      <td>4</td>\n",
       "      <td>1</td>\n",
       "    </tr>\n",
       "  </tbody>\n",
       "</table>\n",
       "<p>5 rows × 22 columns</p>\n",
       "</div>"
      ],
      "text/plain": [
       "   Sex  Earnings  Region_Code  Marital_Status  State_of_Origin  \\\n",
       "0    1    149170            0               1                4   \n",
       "1    0     46436            1               2                0   \n",
       "2    0    189806            1               1                0   \n",
       "3    0    154306            2               1                4   \n",
       "4    0     47538            1               0                3   \n",
       "\n",
       "   Customer_Worth  Customer_Reply  Plan  Certification Effective_To_Date  ...  \\\n",
       "0     4224.631209               1     0              2           1/17/11  ...   \n",
       "1     5516.344018               1     0              2          2/1/2011  ...   \n",
       "2     3810.122147               0     2              1           1/28/11  ...   \n",
       "3     7916.823110               1     2              1          9/2/2011  ...   \n",
       "4     7933.722181               1     0              2           2/20/11  ...   \n",
       "\n",
       "   Total_Claim_Amount  Vehicle_Class  Vehicle_Size  Months_Since_Last_Claim  \\\n",
       "0          218.598065              3             1                        1   \n",
       "1          447.793440              5             1                        7   \n",
       "2          451.200000              5             2                        3   \n",
       "3          355.641958              0             1                        3   \n",
       "4          470.097411              0             1                       18   \n",
       "\n",
       "   Months_Since_Policy_Inception  Counts_of_Open_Complaints  No_Of_POlicy  \\\n",
       "0                             49                          0             1   \n",
       "1                             10                          0             4   \n",
       "2                             38                          0             1   \n",
       "3                             27                          2             5   \n",
       "4                             14                          0             2   \n",
       "\n",
       "   kind_of_policy  Active_Policy  Sales_Channel  \n",
       "0               1              5              0  \n",
       "1               1              4              0  \n",
       "2               1              5              0  \n",
       "3               1              5              1  \n",
       "4               1              4              1  \n",
       "\n",
       "[5 rows x 22 columns]"
      ]
     },
     "execution_count": 25,
     "metadata": {},
     "output_type": "execute_result"
    }
   ],
   "source": [
    "df2.head()"
   ]
  },
  {
   "cell_type": "code",
   "execution_count": 26,
   "id": "39932792",
   "metadata": {},
   "outputs": [
    {
     "name": "stderr",
     "output_type": "stream",
     "text": [
      "<ipython-input-26-3ae9ff2ba44b>:2: SettingWithCopyWarning: \n",
      "A value is trying to be set on a copy of a slice from a DataFrame.\n",
      "Try using .loc[row_indexer,col_indexer] = value instead\n",
      "\n",
      "See the caveats in the documentation: https://pandas.pydata.org/pandas-docs/stable/user_guide/indexing.html#returning-a-view-versus-a-copy\n",
      "  df2['Effective_To_Date'] = pd.to_datetime(df2['Effective_To_Date'])\n"
     ]
    }
   ],
   "source": [
    "#df2.drop([\"Effective_To_Date\"], axis=1, inplace=True)\n",
    "df2['Effective_To_Date'] = pd.to_datetime(df2['Effective_To_Date'])\n",
    "df2['YearMonth'] = df2['Effective_To_Date'].map(lambda x: 100*x.year + x.month)\n",
    "df2['Year'] = df2['Effective_To_Date'].map(lambda x: x.year)\n",
    "df2['Month'] = df2['Effective_To_Date'].map(lambda x: x.month)"
   ]
  },
  {
   "cell_type": "code",
   "execution_count": 27,
   "id": "df0c7a9e",
   "metadata": {},
   "outputs": [
    {
     "data": {
      "text/plain": [
       "25"
      ]
     },
     "execution_count": 27,
     "metadata": {},
     "output_type": "execute_result"
    }
   ],
   "source": [
    "len(df.columns)"
   ]
  },
  {
   "cell_type": "code",
   "execution_count": 28,
   "id": "a16a0893",
   "metadata": {},
   "outputs": [
    {
     "data": {
      "text/plain": [
       "25"
      ]
     },
     "execution_count": 28,
     "metadata": {},
     "output_type": "execute_result"
    }
   ],
   "source": [
    "len(df2.columns)"
   ]
  },
  {
   "cell_type": "code",
   "execution_count": 29,
   "id": "183189e3",
   "metadata": {},
   "outputs": [
    {
     "name": "stdout",
     "output_type": "stream",
     "text": [
      "<class 'pandas.core.frame.DataFrame'>\n",
      "RangeIndex: 6393 entries, 0 to 6392\n",
      "Data columns (total 25 columns):\n",
      " #   Column                         Non-Null Count  Dtype         \n",
      "---  ------                         --------------  -----         \n",
      " 0   Sex                            6393 non-null   int32         \n",
      " 1   Earnings                       6393 non-null   int64         \n",
      " 2   Region_Code                    6393 non-null   int32         \n",
      " 3   Marital_Status                 6393 non-null   int32         \n",
      " 4   State_of_Origin                6393 non-null   int32         \n",
      " 5   Customer_Worth                 6393 non-null   float64       \n",
      " 6   Customer_Reply                 6393 non-null   int32         \n",
      " 7   Plan                           6393 non-null   int32         \n",
      " 8   Certification                  6393 non-null   int32         \n",
      " 9   Effective_To_Date              6393 non-null   datetime64[ns]\n",
      " 10  Status_of_Employment           6393 non-null   int32         \n",
      " 11  Premium_Auto_per_Month         6393 non-null   int64         \n",
      " 12  Total_Claim_Amount             6393 non-null   float64       \n",
      " 13  Vehicle_Class                  6393 non-null   int32         \n",
      " 14  Vehicle_Size                   6393 non-null   int32         \n",
      " 15  Months_Since_Last_Claim        6393 non-null   int64         \n",
      " 16  Months_Since_Policy_Inception  6393 non-null   int64         \n",
      " 17  Counts_of_Open_Complaints      6393 non-null   int64         \n",
      " 18  No_Of_POlicy                   6393 non-null   int64         \n",
      " 19  kind_of_policy                 6393 non-null   int32         \n",
      " 20  Active_Policy                  6393 non-null   int32         \n",
      " 21  Sales_Channel                  6393 non-null   int32         \n",
      " 22  YearMonth                      6393 non-null   int64         \n",
      " 23  Year                           6393 non-null   int64         \n",
      " 24  Month                          6393 non-null   int64         \n",
      "dtypes: datetime64[ns](1), float64(2), int32(13), int64(9)\n",
      "memory usage: 924.1 KB\n"
     ]
    }
   ],
   "source": [
    "max_cardinality = 100\n",
    "high_cardinality = [col for col in df.select_dtypes(exclude=np.number)\n",
    "                   if df[col].nunique() > max_cardinality]\n",
    "df = df.drop(columns=high_cardinality)\n",
    "df.info()"
   ]
  },
  {
   "cell_type": "code",
   "execution_count": 30,
   "id": "2949dbda",
   "metadata": {},
   "outputs": [
    {
     "name": "stdout",
     "output_type": "stream",
     "text": [
      "<class 'pandas.core.frame.DataFrame'>\n",
      "RangeIndex: 2741 entries, 0 to 2740\n",
      "Data columns (total 25 columns):\n",
      " #   Column                         Non-Null Count  Dtype         \n",
      "---  ------                         --------------  -----         \n",
      " 0   Sex                            2741 non-null   int32         \n",
      " 1   Earnings                       2741 non-null   int64         \n",
      " 2   Region_Code                    2741 non-null   int32         \n",
      " 3   Marital_Status                 2741 non-null   int32         \n",
      " 4   State_of_Origin                2741 non-null   int32         \n",
      " 5   Customer_Worth                 2741 non-null   float64       \n",
      " 6   Customer_Reply                 2741 non-null   int32         \n",
      " 7   Plan                           2741 non-null   int32         \n",
      " 8   Certification                  2741 non-null   int32         \n",
      " 9   Effective_To_Date              2741 non-null   datetime64[ns]\n",
      " 10  Status_of_Employment           2741 non-null   int32         \n",
      " 11  Premium_Auto_per_Month         2741 non-null   int64         \n",
      " 12  Total_Claim_Amount             2741 non-null   float64       \n",
      " 13  Vehicle_Class                  2741 non-null   int32         \n",
      " 14  Vehicle_Size                   2741 non-null   int32         \n",
      " 15  Months_Since_Last_Claim        2741 non-null   int64         \n",
      " 16  Months_Since_Policy_Inception  2741 non-null   int64         \n",
      " 17  Counts_of_Open_Complaints      2741 non-null   int64         \n",
      " 18  No_Of_POlicy                   2741 non-null   int64         \n",
      " 19  kind_of_policy                 2741 non-null   int32         \n",
      " 20  Active_Policy                  2741 non-null   int32         \n",
      " 21  Sales_Channel                  2741 non-null   int32         \n",
      " 22  YearMonth                      2741 non-null   int64         \n",
      " 23  Year                           2741 non-null   int64         \n",
      " 24  Month                          2741 non-null   int64         \n",
      "dtypes: datetime64[ns](1), float64(2), int32(13), int64(9)\n",
      "memory usage: 396.3 KB\n"
     ]
    }
   ],
   "source": [
    "max_cardinality = 100\n",
    "high_cardinality = [col for col in df2.select_dtypes(exclude=np.number)\n",
    "                   if df2[col].nunique() > max_cardinality]\n",
    "df2 = df2.drop(columns=high_cardinality)\n",
    "df2.info()"
   ]
  },
  {
   "cell_type": "code",
   "execution_count": 31,
   "id": "2ca29314",
   "metadata": {},
   "outputs": [
    {
     "data": {
      "text/plain": [
       "25"
      ]
     },
     "execution_count": 31,
     "metadata": {},
     "output_type": "execute_result"
    }
   ],
   "source": [
    "len(df2.columns)"
   ]
  },
  {
   "cell_type": "code",
   "execution_count": 93,
   "id": "5c411cf7",
   "metadata": {},
   "outputs": [
    {
     "data": {
      "text/plain": [
       "<bound method Series.unique of 0       1\n",
       "1       3\n",
       "2       0\n",
       "3       1\n",
       "4       3\n",
       "       ..\n",
       "6388    2\n",
       "6389    0\n",
       "6390    0\n",
       "6391    0\n",
       "6392    1\n",
       "Name: Best_Offer, Length: 6393, dtype: int64>"
      ]
     },
     "execution_count": 93,
     "metadata": {},
     "output_type": "execute_result"
    }
   ],
   "source": [
    "train_insurance.Best_Offer.unique"
   ]
  },
  {
   "cell_type": "code",
   "execution_count": 32,
   "id": "0682b800",
   "metadata": {},
   "outputs": [],
   "source": [
    "scaler = StandardScaler()\n",
    "cols = num_feat\n",
    "X = df.drop(columns='Effective_To_Date') #id is our index and won't help our model\n",
    "X = scaler.fit_transform(X) \n",
    "testing = df2.drop(columns='Effective_To_Date')\n",
    "testing = scaler.transform(testing)\n",
    "#X = pd.DataFrame(data = X, columns = cols)\n",
    "#testing = pd.DataFrame(data = df2, columns = cols)\n",
    "#X.head()"
   ]
  },
  {
   "cell_type": "code",
   "execution_count": 127,
   "id": "52ed48df",
   "metadata": {},
   "outputs": [],
   "source": [
    "#training and testing the data model\n",
    "\n",
    "X_train, X_test, y_train, y_test = train_test_split(X, train_insurance.Best_Offer, test_size = 0.20, random_state = 0)"
   ]
  },
  {
   "cell_type": "code",
   "execution_count": 128,
   "id": "295dcfa2",
   "metadata": {},
   "outputs": [
    {
     "data": {
      "text/plain": [
       "LogisticRegression()"
      ]
     },
     "execution_count": 128,
     "metadata": {},
     "output_type": "execute_result"
    }
   ],
   "source": [
    "logistic = LogisticRegression()\n",
    "logistic.fit(X_train, y_train)\n",
    "logistic"
   ]
  },
  {
   "cell_type": "code",
   "execution_count": 129,
   "id": "382c3139",
   "metadata": {},
   "outputs": [],
   "source": [
    "logisticpred = logistic.predict(X_train)\n",
    "logisticpred2 = logistic.predict(X_test)"
   ]
  },
  {
   "cell_type": "code",
   "execution_count": 130,
   "id": "ad31dae5",
   "metadata": {},
   "outputs": [],
   "source": [
    "acc_train = metrics.accuracy_score(y_train, logisticpred)\n",
    "acc_test = metrics.accuracy_score(y_test, logisticpred2)"
   ]
  },
  {
   "cell_type": "code",
   "execution_count": 131,
   "id": "477a13da",
   "metadata": {},
   "outputs": [
    {
     "name": "stdout",
     "output_type": "stream",
     "text": [
      "The Accuracy score for the train insurance is  0.4925694172858819\n",
      "The Accuracy score for the test patient is  0.5035183737294762\n"
     ]
    }
   ],
   "source": [
    "print(\"The Accuracy score for the train insurance is \", acc_train)\n",
    "print(\"The Accuracy score for the test patient is \", acc_test)"
   ]
  },
  {
   "cell_type": "code",
   "execution_count": 132,
   "id": "2b1221f4",
   "metadata": {},
   "outputs": [
    {
     "data": {
      "text/html": [
       "<div>\n",
       "<style scoped>\n",
       "    .dataframe tbody tr th:only-of-type {\n",
       "        vertical-align: middle;\n",
       "    }\n",
       "\n",
       "    .dataframe tbody tr th {\n",
       "        vertical-align: top;\n",
       "    }\n",
       "\n",
       "    .dataframe thead th {\n",
       "        text-align: right;\n",
       "    }\n",
       "</style>\n",
       "<table border=\"1\" class=\"dataframe\">\n",
       "  <thead>\n",
       "    <tr style=\"text-align: right;\">\n",
       "      <th></th>\n",
       "      <th>Customer_ID</th>\n",
       "      <th>Best_Offer</th>\n",
       "    </tr>\n",
       "  </thead>\n",
       "  <tbody>\n",
       "    <tr>\n",
       "      <th>0</th>\n",
       "      <td>Customer_708</td>\n",
       "      <td>1</td>\n",
       "    </tr>\n",
       "    <tr>\n",
       "      <th>1</th>\n",
       "      <td>Customer_47</td>\n",
       "      <td>1</td>\n",
       "    </tr>\n",
       "    <tr>\n",
       "      <th>2</th>\n",
       "      <td>Customer_3995</td>\n",
       "      <td>1</td>\n",
       "    </tr>\n",
       "    <tr>\n",
       "      <th>3</th>\n",
       "      <td>Customer_1513</td>\n",
       "      <td>1</td>\n",
       "    </tr>\n",
       "    <tr>\n",
       "      <th>4</th>\n",
       "      <td>Customer_3686</td>\n",
       "      <td>1</td>\n",
       "    </tr>\n",
       "  </tbody>\n",
       "</table>\n",
       "</div>"
      ],
      "text/plain": [
       "     Customer_ID  Best_Offer\n",
       "0   Customer_708           1\n",
       "1    Customer_47           1\n",
       "2  Customer_3995           1\n",
       "3  Customer_1513           1\n",
       "4  Customer_3686           1"
      ]
     },
     "execution_count": 132,
     "metadata": {},
     "output_type": "execute_result"
    }
   ],
   "source": [
    "sample_insurance.head()"
   ]
  },
  {
   "cell_type": "code",
   "execution_count": 133,
   "id": "6171c46d",
   "metadata": {},
   "outputs": [],
   "source": [
    "submission_file = sample_insurance.copy()"
   ]
  },
  {
   "cell_type": "code",
   "execution_count": 134,
   "id": "7070e373",
   "metadata": {},
   "outputs": [],
   "source": [
    "submission_file.Best_Offer = logistic.predict(testing)"
   ]
  },
  {
   "cell_type": "code",
   "execution_count": 135,
   "id": "2f4e3690",
   "metadata": {},
   "outputs": [
    {
     "data": {
      "text/html": [
       "<div>\n",
       "<style scoped>\n",
       "    .dataframe tbody tr th:only-of-type {\n",
       "        vertical-align: middle;\n",
       "    }\n",
       "\n",
       "    .dataframe tbody tr th {\n",
       "        vertical-align: top;\n",
       "    }\n",
       "\n",
       "    .dataframe thead th {\n",
       "        text-align: right;\n",
       "    }\n",
       "</style>\n",
       "<table border=\"1\" class=\"dataframe\">\n",
       "  <thead>\n",
       "    <tr style=\"text-align: right;\">\n",
       "      <th></th>\n",
       "      <th>Customer_ID</th>\n",
       "      <th>Best_Offer</th>\n",
       "    </tr>\n",
       "  </thead>\n",
       "  <tbody>\n",
       "    <tr>\n",
       "      <th>0</th>\n",
       "      <td>Customer_708</td>\n",
       "      <td>1</td>\n",
       "    </tr>\n",
       "    <tr>\n",
       "      <th>1</th>\n",
       "      <td>Customer_47</td>\n",
       "      <td>0</td>\n",
       "    </tr>\n",
       "    <tr>\n",
       "      <th>2</th>\n",
       "      <td>Customer_3995</td>\n",
       "      <td>1</td>\n",
       "    </tr>\n",
       "    <tr>\n",
       "      <th>3</th>\n",
       "      <td>Customer_1513</td>\n",
       "      <td>1</td>\n",
       "    </tr>\n",
       "    <tr>\n",
       "      <th>4</th>\n",
       "      <td>Customer_3686</td>\n",
       "      <td>1</td>\n",
       "    </tr>\n",
       "  </tbody>\n",
       "</table>\n",
       "</div>"
      ],
      "text/plain": [
       "     Customer_ID  Best_Offer\n",
       "0   Customer_708           1\n",
       "1    Customer_47           0\n",
       "2  Customer_3995           1\n",
       "3  Customer_1513           1\n",
       "4  Customer_3686           1"
      ]
     },
     "execution_count": 135,
     "metadata": {},
     "output_type": "execute_result"
    }
   ],
   "source": [
    "submission_file.head()"
   ]
  },
  {
   "cell_type": "code",
   "execution_count": 136,
   "id": "95a828a0",
   "metadata": {},
   "outputs": [],
   "source": [
    "submission_file.to_csv('prebootcampnew.csv', index=False)"
   ]
  },
  {
   "cell_type": "code",
   "execution_count": 43,
   "id": "ad5cb296",
   "metadata": {},
   "outputs": [
    {
     "data": {
      "text/plain": [
       "LogisticRegressionCV()"
      ]
     },
     "execution_count": 43,
     "metadata": {},
     "output_type": "execute_result"
    }
   ],
   "source": [
    "logisticcv = LogisticRegressionCV()\n",
    "logisticcv.fit(X_train, y_train)\n",
    "logisticcv"
   ]
  },
  {
   "cell_type": "code",
   "execution_count": 137,
   "id": "58a58c61",
   "metadata": {},
   "outputs": [],
   "source": [
    "logisticpred1 = logisticcv.predict(X_train)\n",
    "logisticpred11 = logisticcv.predict(X_test)"
   ]
  },
  {
   "cell_type": "code",
   "execution_count": 138,
   "id": "825d1388",
   "metadata": {},
   "outputs": [],
   "source": [
    "accuracy_train = metrics.accuracy_score(y_train, logisticpred1)\n",
    "accuracy_test = metrics.accuracy_score(y_test, logisticpred11)"
   ]
  },
  {
   "cell_type": "code",
   "execution_count": 139,
   "id": "21f1808e",
   "metadata": {},
   "outputs": [
    {
     "name": "stdout",
     "output_type": "stream",
     "text": [
      "The Accuracy score for the train insurance is  0.4806413766132186\n",
      "The Accuracy score for the test patient is  0.5019546520719312\n"
     ]
    }
   ],
   "source": [
    "print(\"The Accuracy score for the train insurance is \", accuracy_train)\n",
    "print(\"The Accuracy score for the test patient is \", accuracy_test)"
   ]
  },
  {
   "cell_type": "code",
   "execution_count": 47,
   "id": "81229071",
   "metadata": {},
   "outputs": [],
   "source": [
    "submit = sample_insurance.copy()"
   ]
  },
  {
   "cell_type": "code",
   "execution_count": 48,
   "id": "e518d3f1",
   "metadata": {},
   "outputs": [],
   "source": [
    "submit.Best_Offer = logisticcv.predict(testing)"
   ]
  },
  {
   "cell_type": "code",
   "execution_count": 49,
   "id": "08c17c04",
   "metadata": {},
   "outputs": [],
   "source": [
    "submit.to_csv(\"prebootcampnew2.csv\", index=False)"
   ]
  },
  {
   "cell_type": "code",
   "execution_count": 50,
   "id": "c3818c35",
   "metadata": {},
   "outputs": [],
   "source": [
    "from sklearn.neighbors import KNeighborsClassifier"
   ]
  },
  {
   "cell_type": "code",
   "execution_count": 140,
   "id": "1f6b2ec8",
   "metadata": {},
   "outputs": [
    {
     "data": {
      "text/plain": [
       "KNeighborsClassifier()"
      ]
     },
     "execution_count": 140,
     "metadata": {},
     "output_type": "execute_result"
    }
   ],
   "source": [
    "KNmodel = KNeighborsClassifier()\n",
    "KNmodel.fit(X_train, y_train)\n",
    "KNmodel"
   ]
  },
  {
   "cell_type": "code",
   "execution_count": 141,
   "id": "7776ccd6",
   "metadata": {},
   "outputs": [],
   "source": [
    "kpred = KNmodel.predict(X_train)\n",
    "kpred1 = KNmodel.predict(X_test)"
   ]
  },
  {
   "cell_type": "code",
   "execution_count": 142,
   "id": "c6262b43",
   "metadata": {},
   "outputs": [],
   "source": [
    "train_acc = metrics.accuracy_score(y_train, kpred)\n",
    "test_acc = metrics.accuracy_score(y_test, kpred1)"
   ]
  },
  {
   "cell_type": "code",
   "execution_count": 143,
   "id": "7f89c2d7",
   "metadata": {},
   "outputs": [
    {
     "name": "stdout",
     "output_type": "stream",
     "text": [
      "The Accuracy score for the train insurance is  0.6145874071177161\n",
      "The Accuracy score for the test insurance is  0.46755277560594216\n"
     ]
    }
   ],
   "source": [
    "print(\"The Accuracy score for the train insurance is \", train_acc)\n",
    "print(\"The Accuracy score for the test insurance is \", test_acc)"
   ]
  },
  {
   "cell_type": "code",
   "execution_count": 55,
   "id": "d354e2a2",
   "metadata": {},
   "outputs": [],
   "source": [
    "submission = sample_insurance.copy()"
   ]
  },
  {
   "cell_type": "code",
   "execution_count": 56,
   "id": "0fb9633e",
   "metadata": {},
   "outputs": [],
   "source": [
    "submission.Best_Offer = KNmodel.predict(testing)"
   ]
  },
  {
   "cell_type": "code",
   "execution_count": 57,
   "id": "ffa5defd",
   "metadata": {},
   "outputs": [],
   "source": [
    "submission.to_csv(\"prebootcampnew6.csv\", index=False)"
   ]
  },
  {
   "cell_type": "code",
   "execution_count": 58,
   "id": "29d24360",
   "metadata": {},
   "outputs": [],
   "source": [
    "from sklearn.linear_model import RidgeClassifierCV"
   ]
  },
  {
   "cell_type": "code",
   "execution_count": 59,
   "id": "50b9de59",
   "metadata": {},
   "outputs": [
    {
     "data": {
      "text/plain": [
       "RidgeClassifierCV(alphas=array([ 0.1,  1. , 10. ]))"
      ]
     },
     "execution_count": 59,
     "metadata": {},
     "output_type": "execute_result"
    }
   ],
   "source": [
    "percep = RidgeClassifierCV()\n",
    "percep.fit(X_train, y_train)\n",
    "percep"
   ]
  },
  {
   "cell_type": "code",
   "execution_count": 60,
   "id": "3385f69e",
   "metadata": {},
   "outputs": [],
   "source": [
    "predP = percep.predict(X_test)\n",
    "predp = percep.predict(X_train)"
   ]
  },
  {
   "cell_type": "code",
   "execution_count": 61,
   "id": "bbd39c83",
   "metadata": {},
   "outputs": [],
   "source": [
    "trainacc = metrics.accuracy_score(y_train, predp)\n",
    "testacc = metrics.accuracy_score(y_test, predP)"
   ]
  },
  {
   "cell_type": "code",
   "execution_count": 62,
   "id": "6d9d74d3",
   "metadata": {},
   "outputs": [
    {
     "name": "stdout",
     "output_type": "stream",
     "text": [
      "The Accuracy score for the train insurance is  0.4780976220275344\n",
      "The Accuracy score for the test insurance is  0.48342022940563084\n"
     ]
    }
   ],
   "source": [
    "print(\"The Accuracy score for the train insurance is \", trainacc)\n",
    "print(\"The Accuracy score for the test insurance is \", testacc)"
   ]
  },
  {
   "cell_type": "code",
   "execution_count": 63,
   "id": "775d3088",
   "metadata": {},
   "outputs": [],
   "source": [
    "psubmit = sample_insurance.copy()"
   ]
  },
  {
   "cell_type": "code",
   "execution_count": 64,
   "id": "90312333",
   "metadata": {},
   "outputs": [],
   "source": [
    "psubmit.Best_Offer = percep.predict(testing)"
   ]
  },
  {
   "cell_type": "code",
   "execution_count": 65,
   "id": "9d3f711e",
   "metadata": {},
   "outputs": [],
   "source": [
    "psubmit.to_csv(\"prebootcamp4.csv\", index=False)"
   ]
  },
  {
   "cell_type": "code",
   "execution_count": 66,
   "id": "bf80cd73",
   "metadata": {},
   "outputs": [],
   "source": [
    "from sklearn.svm import LinearSVC"
   ]
  },
  {
   "cell_type": "code",
   "execution_count": 67,
   "id": "be23414f",
   "metadata": {},
   "outputs": [
    {
     "name": "stderr",
     "output_type": "stream",
     "text": [
      "C:\\Users\\DELL\\anaconda3\\lib\\site-packages\\sklearn\\svm\\_base.py:985: ConvergenceWarning: Liblinear failed to converge, increase the number of iterations.\n",
      "  warnings.warn(\"Liblinear failed to converge, increase \"\n"
     ]
    },
    {
     "data": {
      "text/plain": [
       "LinearSVC()"
      ]
     },
     "execution_count": 67,
     "metadata": {},
     "output_type": "execute_result"
    }
   ],
   "source": [
    "svc = LinearSVC()\n",
    "svc.fit(X_train,y_train)\n",
    "svc"
   ]
  },
  {
   "cell_type": "code",
   "execution_count": 68,
   "id": "827b3ba0",
   "metadata": {},
   "outputs": [],
   "source": [
    "svcpred = svc.predict(X_train)\n",
    "svcpred1 = svc.predict(X_test)"
   ]
  },
  {
   "cell_type": "code",
   "execution_count": 69,
   "id": "94490013",
   "metadata": {},
   "outputs": [],
   "source": [
    "svc_acc = metrics.accuracy_score(y_test, svcpred1)\n",
    "svc_accr = metrics.accuracy_score(y_train, svcpred)"
   ]
  },
  {
   "cell_type": "code",
   "execution_count": 70,
   "id": "cbab3881",
   "metadata": {},
   "outputs": [
    {
     "name": "stdout",
     "output_type": "stream",
     "text": [
      "The Accuracy score for the train insurance is  0.47747183979974966\n",
      "The Accuracy score for the test insurance is  0.48342022940563084\n"
     ]
    }
   ],
   "source": [
    "print(\"The Accuracy score for the train insurance is \", svc_accr)\n",
    "print(\"The Accuracy score for the test insurance is \", svc_acc)"
   ]
  },
  {
   "cell_type": "code",
   "execution_count": 71,
   "id": "8d5609cc",
   "metadata": {},
   "outputs": [],
   "source": [
    "svc_submit = sample_insurance.copy()"
   ]
  },
  {
   "cell_type": "code",
   "execution_count": 72,
   "id": "75c1fcb7",
   "metadata": {},
   "outputs": [],
   "source": [
    "svc_submit.Best_Offer = svc.predict(testing)"
   ]
  },
  {
   "cell_type": "code",
   "execution_count": 73,
   "id": "907b08b8",
   "metadata": {},
   "outputs": [],
   "source": [
    "svc_submit.to_csv(\"prebootcamp5.csv\", index=False)"
   ]
  },
  {
   "cell_type": "code",
   "execution_count": 74,
   "id": "d41fd155",
   "metadata": {},
   "outputs": [],
   "source": [
    "from sklearn.naive_bayes import GaussianNB"
   ]
  },
  {
   "cell_type": "code",
   "execution_count": 75,
   "id": "e45f8207",
   "metadata": {},
   "outputs": [
    {
     "data": {
      "text/plain": [
       "GaussianNB()"
      ]
     },
     "execution_count": 75,
     "metadata": {},
     "output_type": "execute_result"
    }
   ],
   "source": [
    "gaussian = GaussianNB()\n",
    "gaussian.fit(X_train, y_train)\n",
    "gaussian"
   ]
  },
  {
   "cell_type": "code",
   "execution_count": 76,
   "id": "bba4e627",
   "metadata": {},
   "outputs": [],
   "source": [
    "gpred = gaussian.predict(X_test)\n",
    "gpred1 = gaussian.predict(X_train)"
   ]
  },
  {
   "cell_type": "code",
   "execution_count": 77,
   "id": "7afa4f44",
   "metadata": {},
   "outputs": [],
   "source": [
    "g_acc = metrics.accuracy_score(y_test, gpred)\n",
    "gm_accr = metrics.accuracy_score(y_train, gpred1)"
   ]
  },
  {
   "cell_type": "code",
   "execution_count": 78,
   "id": "6d599af5",
   "metadata": {},
   "outputs": [
    {
     "name": "stdout",
     "output_type": "stream",
     "text": [
      "The Accuracy score for the train insurance is  0.2146433041301627\n",
      "The Accuracy score for the test insurance is  0.20417101147028155\n"
     ]
    }
   ],
   "source": [
    "print(\"The Accuracy score for the train insurance is \", gm_accr)\n",
    "print(\"The Accuracy score for the test insurance is \", g_acc)"
   ]
  },
  {
   "cell_type": "code",
   "execution_count": 79,
   "id": "02d46787",
   "metadata": {},
   "outputs": [],
   "source": [
    "g_submit = sample_insurance.copy()"
   ]
  },
  {
   "cell_type": "code",
   "execution_count": 80,
   "id": "0010f1d1",
   "metadata": {},
   "outputs": [
    {
     "ename": "AttributeError",
     "evalue": "'numpy.ndarray' object has no attribute 'fillna'",
     "output_type": "error",
     "traceback": [
      "\u001b[1;31m---------------------------------------------------------------------------\u001b[0m",
      "\u001b[1;31mAttributeError\u001b[0m                            Traceback (most recent call last)",
      "\u001b[1;32m<ipython-input-80-56dac225dac5>\u001b[0m in \u001b[0;36m<module>\u001b[1;34m\u001b[0m\n\u001b[1;32m----> 1\u001b[1;33m \u001b[0mtest\u001b[0m \u001b[1;33m=\u001b[0m \u001b[0mtesting\u001b[0m\u001b[1;33m.\u001b[0m\u001b[0mfillna\u001b[0m\u001b[1;33m(\u001b[0m\u001b[1;36m0\u001b[0m\u001b[1;33m)\u001b[0m\u001b[1;33m\u001b[0m\u001b[1;33m\u001b[0m\u001b[0m\n\u001b[0m",
      "\u001b[1;31mAttributeError\u001b[0m: 'numpy.ndarray' object has no attribute 'fillna'"
     ]
    }
   ],
   "source": [
    "test = testing.fillna(0)"
   ]
  },
  {
   "cell_type": "code",
   "execution_count": null,
   "id": "0ce08d65",
   "metadata": {},
   "outputs": [],
   "source": [
    "g_submit.Best_Offer = gaussian.predict(test)"
   ]
  },
  {
   "cell_type": "code",
   "execution_count": null,
   "id": "4e8700e8",
   "metadata": {},
   "outputs": [],
   "source": [
    "g_submit.to_csv(\"prebootcampnew3.csv\", index=False)"
   ]
  },
  {
   "cell_type": "code",
   "execution_count": null,
   "id": "13695e2b",
   "metadata": {},
   "outputs": [],
   "source": []
  }
 ],
 "metadata": {
  "kernelspec": {
   "display_name": "Python 3",
   "language": "python",
   "name": "python3"
  },
  "language_info": {
   "codemirror_mode": {
    "name": "ipython",
    "version": 3
   },
   "file_extension": ".py",
   "mimetype": "text/x-python",
   "name": "python",
   "nbconvert_exporter": "python",
   "pygments_lexer": "ipython3",
   "version": "3.8.8"
  }
 },
 "nbformat": 4,
 "nbformat_minor": 5
}
